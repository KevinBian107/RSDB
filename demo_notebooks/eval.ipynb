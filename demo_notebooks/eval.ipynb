{
 "cells": [
  {
   "cell_type": "markdown",
   "metadata": {},
   "source": [
    "# Evaluations of Our System"
   ]
  },
  {
   "cell_type": "code",
   "execution_count": 1,
   "metadata": {},
   "outputs": [
    {
     "name": "stdout",
     "output_type": "stream",
     "text": [
      "Current working directory is now: /Users/guoxuanxu/Documents/local_repo/RSDB\n"
     ]
    }
   ],
   "source": [
    "%load_ext autoreload\n",
    "%autoreload 2\n",
    "\n",
    "# notebook path get folder path, python path gets abs path\n",
    "from pathlib import Path\n",
    "import os\n",
    "current_dir = Path.cwd().parent\n",
    "os.chdir(current_dir)\n",
    "print(f\"Current working directory is now: {Path.cwd()}\")\n",
    "\n",
    "import tensorflow as tf\n",
    "import warnings\n",
    "warnings.filterwarnings(\"ignore\")\n",
    "\n",
    "from rsdb.preprocess.data_preprocessing import get_clean_review_data\n",
    "from rsdb.features.featuring import featuring_engineering\n",
    "from rsdb.eval.eval_model import eval_result, eval_downstream\n",
    "\n",
    "from rsdb.train import tdlf_df_to_tf_dataset, fpmc_df_to_tf_dataset, blf_df_to_tf_dataset\n",
    "\n",
    "\n",
    "url = \"https://datarepo.eng.ucsd.edu/mcauley_group/gdrive/googlelocal/review-California_10.json.gz\"\n",
    "meta_url = \"https://datarepo.eng.ucsd.edu/mcauley_group/gdrive/googlelocal/meta-California.json.gz\""
   ]
  },
  {
   "cell_type": "code",
   "execution_count": 2,
   "metadata": {},
   "outputs": [
    {
     "name": "stdout",
     "output_type": "stream",
     "text": [
      "/Users/guoxuanxu/Documents/local_repo/RSDB/rsdb\n",
      "Loading metadata from: /Users/guoxuanxu/Documents/local_repo/RSDB/rsdb/data/metadata.json.gz\n",
      "Loaded 463034 metadata entries.\n",
      "Processing review data from: /Users/guoxuanxu/Documents/local_repo/RSDB/rsdb/data/data.json.gz\n"
     ]
    },
    {
     "name": "stderr",
     "output_type": "stream",
     "text": [
      "Processing chunks: 101it [00:21,  4.80it/s, Processed Rows=949381]                         \n"
     ]
    },
    {
     "name": "stdout",
     "output_type": "stream",
     "text": [
      "Processed 949381 review entries.\n",
      "finished finding generalized categories. Takes 0.5371699333190918\n",
      "finished bining locations. Takes 0.422374963760376\n",
      "finished featuring hours. Takes 3.5618338584899902\n",
      "finished creating model specalizied feature. Takes 1.206752061843872\n"
     ]
    }
   ],
   "source": [
    "cleaned_df = get_clean_review_data(url, meta_url)\n",
    "featured_df = featuring_engineering(cleaned_df)\n",
    "data_query = featured_df[['gmap_id', 'reviewer_id', 'rating']]"
   ]
  },
  {
   "cell_type": "code",
   "execution_count": 3,
   "metadata": {},
   "outputs": [],
   "source": [
    "train_df = featured_df.sample(frac=0.8, random_state=42) # not gonna use here\n",
    "test_df = featured_df.drop(train_df.index)"
   ]
  },
  {
   "cell_type": "markdown",
   "metadata": {},
   "source": [
    "## Load the Baseline Latent Factor Model\n"
   ]
  },
  {
   "cell_type": "code",
   "execution_count": 4,
   "metadata": {},
   "outputs": [
    {
     "name": "stdout",
     "output_type": "stream",
     "text": [
      "Current working directory is now: /Users/guoxuanxu/Documents/local_repo/RSDB\n",
      "Model: \"latent_factor_model\"\n",
      "_________________________________________________________________\n",
      " Layer (type)                Output Shape              Param #   \n",
      "=================================================================\n",
      " sequential (Sequential)     (None, 1)                 38157     \n",
      "                                                                 \n",
      " sequential_1 (Sequential)   (None, 1)                 180046    \n",
      "                                                                 \n",
      " sequential_2 (Sequential)   (None, 1)                 38157     \n",
      "                                                                 \n",
      " sequential_3 (Sequential)   (None, 1)                 180046    \n",
      "                                                                 \n",
      " ranking (Ranking)           multiple                  0         \n",
      "                                                                 \n",
      "=================================================================\n",
      "Total params: 436407 (1.66 MB)\n",
      "Trainable params: 436407 (1.66 MB)\n",
      "Non-trainable params: 0 (0.00 Byte)\n",
      "_________________________________________________________________\n",
      "None\n"
     ]
    }
   ],
   "source": [
    "print(f\"Current working directory is now: {Path.cwd()}\")\n",
    "model_path = 'trained_blf_model'\n",
    "model_blf = tf.keras.models.load_model(model_path)\n",
    "print(model_blf.summary())"
   ]
  },
  {
   "cell_type": "code",
   "execution_count": 5,
   "metadata": {},
   "outputs": [],
   "source": [
    "train_data = blf_df_to_tf_dataset(train_df).shuffle(1024).batch(4096)\n",
    "test_data_blf = blf_df_to_tf_dataset(test_df).batch(4096)"
   ]
  },
  {
   "cell_type": "markdown",
   "metadata": {},
   "source": [
    "## Load the FMPC Model"
   ]
  },
  {
   "cell_type": "code",
   "execution_count": 6,
   "metadata": {},
   "outputs": [
    {
     "name": "stdout",
     "output_type": "stream",
     "text": [
      "Current working directory is now: /Users/guoxuanxu/Documents/local_repo/RSDB\n",
      "Model: \"fpmc_variants\"\n",
      "_________________________________________________________________\n",
      " Layer (type)                Output Shape              Param #   \n",
      "=================================================================\n",
      " embedding (Embedding)       multiple                  18724680  \n",
      "                                                                 \n",
      " embedding_1 (Embedding)     multiple                  3968224   \n",
      "                                                                 \n",
      " embedding_2 (Embedding)     multiple                  3968224   \n",
      "                                                                 \n",
      " embedding_3 (Embedding)     multiple                  180045    \n",
      "                                                                 \n",
      " embedding_4 (Embedding)     multiple                  38156     \n",
      "                                                                 \n",
      " embedding_5 (Embedding)     multiple                  312       \n",
      "                                                                 \n",
      " dense (Dense)               multiple                  2184      \n",
      "                                                                 \n",
      " dense_1 (Dense)             multiple                  2184      \n",
      "                                                                 \n",
      " ranking (Ranking)           multiple                  0         \n",
      "                                                                 \n",
      "=================================================================\n",
      "Total params: 26884010 (102.55 MB)\n",
      "Trainable params: 26884010 (102.55 MB)\n",
      "Non-trainable params: 0 (0.00 Byte)\n",
      "_________________________________________________________________\n",
      "None\n"
     ]
    }
   ],
   "source": [
    "print(f\"Current working directory is now: {Path.cwd()}\")\n",
    "model_path = 'trained_fpmc_model'\n",
    "model_fpmc = tf.keras.models.load_model(model_path)\n",
    "print(model_fpmc.summary())"
   ]
  },
  {
   "cell_type": "code",
   "execution_count": 7,
   "metadata": {},
   "outputs": [],
   "source": [
    "train_data = fpmc_df_to_tf_dataset(train_df).shuffle(1024).batch(4096)\n",
    "test_data_fpmc = fpmc_df_to_tf_dataset(test_df).batch(4096)"
   ]
  },
  {
   "cell_type": "markdown",
   "metadata": {},
   "source": [
    "## Load the TDLF Model"
   ]
  },
  {
   "cell_type": "code",
   "execution_count": 8,
   "metadata": {},
   "outputs": [
    {
     "name": "stdout",
     "output_type": "stream",
     "text": [
      "Current working directory is now: /Users/guoxuanxu/Documents/local_repo/RSDB\n",
      "Model: \"temporal_dynamic_variants\"\n",
      "_________________________________________________________________\n",
      " Layer (type)                Output Shape              Param #   \n",
      "=================================================================\n",
      " string_lookup (StringLooku  multiple                  0         \n",
      " p)                                                              \n",
      "                                                                 \n",
      " string_lookup_1 (StringLoo  multiple                  0         \n",
      " kup)                                                            \n",
      "                                                                 \n",
      " integer_lookup (IntegerLoo  multiple                  0         \n",
      " kup)                                                            \n",
      "                                                                 \n",
      " embedding (Embedding)       multiple                  21605400  \n",
      "                                                                 \n",
      " embedding_1 (Embedding)     multiple                  4578720   \n",
      "                                                                 \n",
      " embedding_2 (Embedding)     multiple                  2520      \n",
      "                                                                 \n",
      " embedding_3 (Embedding)     multiple                  180045    \n",
      "                                                                 \n",
      " embedding_4 (Embedding)     multiple                  38156     \n",
      "                                                                 \n",
      " embedding_5 (Embedding)     multiple                  180045    \n",
      "                                                                 \n",
      " sequential (Sequential)     (None, 1)                 37877     \n",
      "                                                                 \n",
      " ranking (Ranking)           multiple                  0         \n",
      "                                                                 \n",
      "=================================================================\n",
      "Total params: 26622764 (101.56 MB)\n",
      "Trainable params: 26622194 (101.56 MB)\n",
      "Non-trainable params: 570 (2.23 KB)\n",
      "_________________________________________________________________\n",
      "None\n"
     ]
    }
   ],
   "source": [
    "print(f\"Current working directory is now: {Path.cwd()}\")\n",
    "model_path = 'trained_tdlf_model'\n",
    "model_tdlf = tf.keras.models.load_model(model_path)\n",
    "print(model_tdlf.summary())"
   ]
  },
  {
   "cell_type": "code",
   "execution_count": 9,
   "metadata": {},
   "outputs": [],
   "source": [
    "train_data = tdlf_df_to_tf_dataset(train_df).shuffle(1024).batch(4096)\n",
    "test_data_tdlf = tdlf_df_to_tf_dataset(test_df).batch(4096)"
   ]
  },
  {
   "cell_type": "markdown",
   "metadata": {},
   "source": [
    "## Evaluate Metrics"
   ]
  },
  {
   "cell_type": "code",
   "execution_count": 10,
   "metadata": {},
   "outputs": [
    {
     "name": "stdout",
     "output_type": "stream",
     "text": [
      "17/17 [==============================] - 0s 3ms/step\n",
      "17/17 [==============================] - 1s 33ms/step\n",
      "17/17 [==============================] - 1s 32ms/step\n"
     ]
    },
    {
     "data": {
      "text/html": [
       "<div>\n",
       "<style scoped>\n",
       "    .dataframe tbody tr th:only-of-type {\n",
       "        vertical-align: middle;\n",
       "    }\n",
       "\n",
       "    .dataframe tbody tr th {\n",
       "        vertical-align: top;\n",
       "    }\n",
       "\n",
       "    .dataframe thead th {\n",
       "        text-align: right;\n",
       "    }\n",
       "</style>\n",
       "<table border=\"1\" class=\"dataframe\">\n",
       "  <thead>\n",
       "    <tr style=\"text-align: right;\">\n",
       "      <th></th>\n",
       "      <th>mse</th>\n",
       "      <th>rmse</th>\n",
       "      <th>r2</th>\n",
       "      <th>mase</th>\n",
       "    </tr>\n",
       "  </thead>\n",
       "  <tbody>\n",
       "    <tr>\n",
       "      <th>latent_factor_model</th>\n",
       "      <td>1.260431</td>\n",
       "      <td>1.122689</td>\n",
       "      <td>0.106109</td>\n",
       "      <td>0.831818</td>\n",
       "    </tr>\n",
       "    <tr>\n",
       "      <th>fpmc_variants</th>\n",
       "      <td>1.410808</td>\n",
       "      <td>1.187775</td>\n",
       "      <td>-0.000538</td>\n",
       "      <td>0.892633</td>\n",
       "    </tr>\n",
       "    <tr>\n",
       "      <th>temporal_dynamic_variants</th>\n",
       "      <td>1.268289</td>\n",
       "      <td>1.126184</td>\n",
       "      <td>0.100536</td>\n",
       "      <td>0.810097</td>\n",
       "    </tr>\n",
       "  </tbody>\n",
       "</table>\n",
       "</div>"
      ],
      "text/plain": [
       "                                mse      rmse        r2      mase\n",
       "latent_factor_model        1.260431  1.122689  0.106109  0.831818\n",
       "fpmc_variants              1.410808  1.187775 -0.000538  0.892633\n",
       "temporal_dynamic_variants  1.268289  1.126184  0.100536  0.810097"
      ]
     },
     "execution_count": 10,
     "metadata": {},
     "output_type": "execute_result"
    }
   ],
   "source": [
    "eval_result([model_blf, model_fpmc, model_tdlf], [test_data_blf, test_data_fpmc, test_data_tdlf])"
   ]
  },
  {
   "cell_type": "markdown",
   "metadata": {},
   "source": [
    "# Downstream Applications"
   ]
  },
  {
   "cell_type": "code",
   "execution_count": 51,
   "metadata": {},
   "outputs": [
    {
     "name": "stdout",
     "output_type": "stream",
     "text": [
      "please make sure all the tensorflow data is same\n",
      "finished finding generalized categories. Takes 0.546720027923584\n",
      "finished bining locations. Takes 0.41260480880737305\n",
      "finished featuring hours. Takes 4.037209987640381\n",
      "finished creating model specalizied feature. Takes 1.3669629096984863\n",
      "for model: BasicLatentFactors\n",
      "The given gmapids has the property ['Senior citizen center', 'Transportation infrastructure']\n",
      "Of all the recommended user, their categorical visited business are in these categories\n",
      "category\n",
      "Senior citizen center    0.053073\n",
      "Grocery store            0.022346\n",
      "Auto repair shop         0.022346\n",
      "Name: proportion, dtype: float64\n",
      "\n",
      "\n",
      "Their average rating is:\n",
      "reviewer_id\n",
      "1.018359e+20    5.000000\n",
      "1.028439e+20    5.000000\n",
      "1.041582e+20    4.916667\n",
      "1.042955e+20    5.000000\n",
      "1.059067e+20    5.000000\n",
      "1.063647e+20    5.000000\n",
      "1.065096e+20    5.000000\n",
      "1.076373e+20    5.000000\n",
      "1.077612e+20    4.600000\n",
      "1.081316e+20    4.916667\n",
      "1.085644e+20    5.000000\n",
      "1.086065e+20    4.600000\n",
      "1.095809e+20    4.750000\n",
      "1.113109e+20    5.000000\n",
      "1.126940e+20    5.000000\n",
      "1.128515e+20    5.000000\n",
      "1.133839e+20    4.000000\n",
      "1.146988e+20    5.000000\n",
      "1.164289e+20    5.000000\n",
      "1.166693e+20    5.000000\n",
      "Name: rating, dtype: float64\n",
      "*----------------------------*\n",
      "The given gmapids has the property ['Auto repair shop']\n",
      "Of all the recommended user, their categorical visited business are in these categories\n",
      "category\n",
      "Auto repair shop    0.022171\n",
      "Gas station         0.017584\n",
      "Restaurant          0.017584\n",
      "Name: proportion, dtype: float64\n",
      "\n",
      "\n",
      "Their average rating is:\n",
      "reviewer_id\n",
      "1.030183e+20    5.000000\n",
      "1.032367e+20    4.833333\n",
      "1.040100e+20    5.000000\n",
      "1.049494e+20    5.000000\n",
      "1.056125e+20    5.000000\n",
      "1.060702e+20    5.000000\n",
      "1.061405e+20    4.974359\n",
      "1.072934e+20    5.000000\n",
      "1.075239e+20    5.000000\n",
      "1.100055e+20    5.000000\n",
      "1.103570e+20    5.000000\n",
      "1.104089e+20    5.000000\n",
      "1.114687e+20    5.000000\n",
      "1.115175e+20    4.977273\n",
      "1.115564e+20    5.000000\n",
      "1.133427e+20    5.000000\n",
      "1.134650e+20    4.894737\n",
      "1.166693e+20    5.000000\n",
      "1.167139e+20    5.000000\n",
      "1.178479e+20    4.878788\n",
      "Name: rating, dtype: float64\n",
      "*----------------------------*\n",
      "The given gmapids has the property ['Beauty salon']\n",
      "Of all the recommended user, their categorical visited business are in these categories\n",
      "category\n",
      "ATM             0.046858\n",
      "Bank            0.041345\n",
      "Credit union    0.019846\n",
      "Name: proportion, dtype: float64\n",
      "\n",
      "\n",
      "Their average rating is:\n",
      "reviewer_id\n",
      "1.027599e+20    5.000000\n",
      "1.033885e+20    5.000000\n",
      "1.049494e+20    5.000000\n",
      "1.052769e+20    5.000000\n",
      "1.053089e+20    5.000000\n",
      "1.055059e+20    5.000000\n",
      "1.056125e+20    5.000000\n",
      "1.061405e+20    4.974359\n",
      "1.072934e+20    5.000000\n",
      "1.075239e+20    5.000000\n",
      "1.084273e+20    5.000000\n",
      "1.103570e+20    5.000000\n",
      "1.105414e+20    5.000000\n",
      "1.115175e+20    4.977273\n",
      "1.121287e+20    5.000000\n",
      "1.132664e+20    5.000000\n",
      "1.134650e+20    4.894737\n",
      "1.148400e+20    5.000000\n",
      "1.175349e+20    4.954545\n",
      "1.178479e+20    4.878788\n",
      "Name: rating, dtype: float64\n",
      "*----------------------------*\n",
      "The given gmapids has the property ['RV dealer']\n",
      "Of all the recommended user, their categorical visited business are in these categories\n",
      "category\n",
      "RV dealer    0.051836\n",
      "Bank         0.023758\n",
      "ATM          0.023758\n",
      "Name: proportion, dtype: float64\n",
      "\n",
      "\n",
      "Their average rating is:\n",
      "reviewer_id\n",
      "1.010283e+20    5.000000\n",
      "1.030170e+20    5.000000\n",
      "1.030183e+20    5.000000\n",
      "1.039367e+20    5.000000\n",
      "1.049873e+20    4.666667\n",
      "1.050314e+20    4.714286\n",
      "1.062618e+20    4.600000\n",
      "1.064958e+20    4.750000\n",
      "1.076647e+20    5.000000\n",
      "1.079885e+20    5.000000\n",
      "1.094975e+20    5.000000\n",
      "1.107489e+20    3.000000\n",
      "1.108264e+20    5.000000\n",
      "1.116693e+20    5.000000\n",
      "1.124830e+20    5.000000\n",
      "1.128792e+20    5.000000\n",
      "1.137809e+20    5.000000\n",
      "1.150508e+20    5.000000\n",
      "1.168292e+20    4.777778\n",
      "1.180479e+20    5.000000\n",
      "Name: rating, dtype: float64\n",
      "*----------------------------*\n",
      "The given gmapids has the property ['Tool store']\n",
      "Of all the recommended user, their categorical visited business are in these categories\n",
      "category\n",
      "Tool store           0.028871\n",
      "Gas station          0.026247\n",
      "Convenience store    0.019685\n",
      "Name: proportion, dtype: float64\n",
      "\n",
      "\n",
      "Their average rating is:\n",
      "reviewer_id\n",
      "1.002505e+20    4.894737\n",
      "1.014636e+20    4.937500\n",
      "1.028346e+20    5.000000\n",
      "1.043480e+20    5.000000\n",
      "1.049494e+20    5.000000\n",
      "1.049794e+20    4.628571\n",
      "1.052146e+20    4.823529\n",
      "1.065179e+20    4.888889\n",
      "1.079079e+20    4.818182\n",
      "1.097165e+20    4.875000\n",
      "1.097484e+20    5.000000\n",
      "1.104331e+20    5.000000\n",
      "1.114764e+20    5.000000\n",
      "1.115946e+20    5.000000\n",
      "1.144291e+20    5.000000\n",
      "1.154934e+20    5.000000\n",
      "1.158548e+20    5.000000\n",
      "1.160068e+20    5.000000\n",
      "1.165925e+20    5.000000\n",
      "1.176338e+20    5.000000\n",
      "Name: rating, dtype: float64\n",
      "*----------------------------*\n",
      "*----------------------------*\n"
     ]
    }
   ],
   "source": [
    "eval_downstream([model_blf, model_fpmc, model_tdlf], cleaned_df, ['BasicLatentFactors', 'FPMCVariants', 'TemporalDynamicVariants'])"
   ]
  }
 ],
 "metadata": {
  "kernelspec": {
   "display_name": "rsdb",
   "language": "python",
   "name": "python3"
  },
  "language_info": {
   "codemirror_mode": {
    "name": "ipython",
    "version": 3
   },
   "file_extension": ".py",
   "mimetype": "text/x-python",
   "name": "python",
   "nbconvert_exporter": "python",
   "pygments_lexer": "ipython3",
   "version": "3.8.18"
  }
 },
 "nbformat": 4,
 "nbformat_minor": 2
}
