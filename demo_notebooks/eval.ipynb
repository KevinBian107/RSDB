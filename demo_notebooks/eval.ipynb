{
 "cells": [
  {
   "cell_type": "markdown",
   "metadata": {},
   "source": [
    "# Evaluations of Our System"
   ]
  },
  {
   "cell_type": "code",
   "execution_count": 1,
   "metadata": {},
   "outputs": [
    {
     "name": "stdout",
     "output_type": "stream",
     "text": [
      "Current working directory is now: /Users/kevinb/Desktop/cse158/RSDB\n"
     ]
    }
   ],
   "source": [
    "%load_ext autoreload\n",
    "%autoreload 2\n",
    "\n",
    "# notebook path get folder path, python path gets abs path\n",
    "from pathlib import Path\n",
    "import os\n",
    "current_dir = Path.cwd().parent\n",
    "os.chdir(current_dir)\n",
    "print(f\"Current working directory is now: {Path.cwd()}\")\n",
    "\n",
    "import tensorflow as tf\n",
    "import warnings\n",
    "warnings.filterwarnings(\"ignore\")\n",
    "\n",
    "from rsdb.preprocess.data_preprocessing import get_clean_review_data\n",
    "from rsdb.features.featuring import featuring_engineering\n",
    "from rsdb.eval.eval_model import eval_result\n",
    "\n",
    "from rsdb.train import tdlf_df_to_tf_dataset, fpmc_df_to_tf_dataset, blf_df_to_tf_dataset\n",
    "\n",
    "\n",
    "url = \"https://datarepo.eng.ucsd.edu/mcauley_group/gdrive/googlelocal/review-California_10.json.gz\"\n",
    "meta_url = \"https://datarepo.eng.ucsd.edu/mcauley_group/gdrive/googlelocal/meta-California.json.gz\""
   ]
  },
  {
   "cell_type": "code",
   "execution_count": 2,
   "metadata": {},
   "outputs": [
    {
     "name": "stdout",
     "output_type": "stream",
     "text": [
      "/Users/kevinb/Desktop/cse158/RSDB/rsdb\n",
      "Loading metadata from: /Users/kevinb/Desktop/cse158/RSDB/rsdb/data/metadata.json.gz\n",
      "Loaded 463034 metadata entries.\n",
      "Processing review data from: /Users/kevinb/Desktop/cse158/RSDB/rsdb/data/data.json.gz\n"
     ]
    },
    {
     "name": "stderr",
     "output_type": "stream",
     "text": [
      "Processing chunks: 101it [00:32,  3.14it/s, Processed Rows=949381]                         \n"
     ]
    },
    {
     "name": "stdout",
     "output_type": "stream",
     "text": [
      "Processed 949381 review entries.\n",
      "finished finding generalized categories. Takes 0.8954708576202393\n",
      "finished bining locations. Takes 0.8869030475616455\n",
      "finished featuring hours. Takes 3.995192289352417\n",
      "finished creating model specalizied feature. Takes 1.7601001262664795\n"
     ]
    }
   ],
   "source": [
    "cleaned_df = get_clean_review_data(url, meta_url)\n",
    "featured_df = featuring_engineering(cleaned_df)\n",
    "data_query = featured_df[['gmap_id', 'reviewer_id', 'rating']]"
   ]
  },
  {
   "cell_type": "code",
   "execution_count": 3,
   "metadata": {},
   "outputs": [],
   "source": [
    "train_df = featured_df.sample(frac=0.8, random_state=42) # not gonna use here\n",
    "test_df = featured_df.drop(train_df.index)"
   ]
  },
  {
   "cell_type": "markdown",
   "metadata": {},
   "source": [
    "## Load the Baseline Latent Factor Model\n"
   ]
  },
  {
   "cell_type": "code",
   "execution_count": 5,
   "metadata": {},
   "outputs": [
    {
     "name": "stdout",
     "output_type": "stream",
     "text": [
      "Current working directory is now: /Users/kevinb/Desktop/cse158/RSDB\n",
      "Model: \"latent_factor_model\"\n",
      "_________________________________________________________________\n",
      " Layer (type)                Output Shape              Param #   \n",
      "=================================================================\n",
      " sequential (Sequential)     (None, 1)                 38157     \n",
      "                                                                 \n",
      " sequential_1 (Sequential)   (None, 1)                 180046    \n",
      "                                                                 \n",
      " sequential_2 (Sequential)   (None, 1)                 38157     \n",
      "                                                                 \n",
      " sequential_3 (Sequential)   (None, 1)                 180046    \n",
      "                                                                 \n",
      " ranking (Ranking)           multiple                  0         \n",
      "                                                                 \n",
      "=================================================================\n",
      "Total params: 436407 (1.66 MB)\n",
      "Trainable params: 436407 (1.66 MB)\n",
      "Non-trainable params: 0 (0.00 Byte)\n",
      "_________________________________________________________________\n",
      "None\n"
     ]
    }
   ],
   "source": [
    "print(f\"Current working directory is now: {Path.cwd()}\")\n",
    "model_path = 'trained_blf_model'\n",
    "model_blf = tf.keras.models.load_model(model_path)\n",
    "print(model_blf.summary())"
   ]
  },
  {
   "cell_type": "code",
   "execution_count": 6,
   "metadata": {},
   "outputs": [],
   "source": [
    "train_data = blf_df_to_tf_dataset(train_df).shuffle(1024).batch(4096)\n",
    "test_data_blf = blf_df_to_tf_dataset(test_df).batch(4096)"
   ]
  },
  {
   "cell_type": "markdown",
   "metadata": {},
   "source": [
    "## Load the FMPC Model"
   ]
  },
  {
   "cell_type": "code",
   "execution_count": 14,
   "metadata": {},
   "outputs": [
    {
     "name": "stdout",
     "output_type": "stream",
     "text": [
      "Current working directory is now: /Users/kevinb/Desktop/cse158/RSDB\n",
      "Model: \"fpmc_variants\"\n",
      "_________________________________________________________________\n",
      " Layer (type)                Output Shape              Param #   \n",
      "=================================================================\n",
      " embedding (Embedding)       multiple                  21605400  \n",
      "                                                                 \n",
      " embedding_1 (Embedding)     multiple                  4578720   \n",
      "                                                                 \n",
      " embedding_2 (Embedding)     multiple                  4578720   \n",
      "                                                                 \n",
      " embedding_3 (Embedding)     multiple                  180045    \n",
      "                                                                 \n",
      " embedding_4 (Embedding)     multiple                  38156     \n",
      "                                                                 \n",
      " embedding_5 (Embedding)     multiple                  360       \n",
      "                                                                 \n",
      " dense (Dense)               multiple                  2520      \n",
      "                                                                 \n",
      " dense_1 (Dense)             multiple                  2520      \n",
      "                                                                 \n",
      " ranking (Ranking)           multiple                  0         \n",
      "                                                                 \n",
      "=================================================================\n",
      "Total params: 30986442 (118.20 MB)\n",
      "Trainable params: 30986442 (118.20 MB)\n",
      "Non-trainable params: 0 (0.00 Byte)\n",
      "_________________________________________________________________\n",
      "None\n"
     ]
    }
   ],
   "source": [
    "print(f\"Current working directory is now: {Path.cwd()}\")\n",
    "model_path = 'trained_fpmc_model'\n",
    "model_fpmc = tf.keras.models.load_model(model_path)\n",
    "print(model_fpmc.summary())"
   ]
  },
  {
   "cell_type": "code",
   "execution_count": 15,
   "metadata": {},
   "outputs": [],
   "source": [
    "train_data = fpmc_df_to_tf_dataset(train_df).shuffle(1024).batch(4096)\n",
    "test_data_fpmc = fpmc_df_to_tf_dataset(test_df).batch(4096)"
   ]
  },
  {
   "cell_type": "markdown",
   "metadata": {},
   "source": [
    "## Load the TDLF Model"
   ]
  },
  {
   "cell_type": "code",
   "execution_count": 16,
   "metadata": {},
   "outputs": [
    {
     "name": "stdout",
     "output_type": "stream",
     "text": [
      "Current working directory is now: /Users/kevinb/Desktop/cse158/RSDB\n",
      "Model: \"temporal_dynamic_variants\"\n",
      "_________________________________________________________________\n",
      " Layer (type)                Output Shape              Param #   \n",
      "=================================================================\n",
      " string_lookup (StringLooku  multiple                  0         \n",
      " p)                                                              \n",
      "                                                                 \n",
      " string_lookup_1 (StringLoo  multiple                  0         \n",
      " kup)                                                            \n",
      "                                                                 \n",
      " integer_lookup (IntegerLoo  multiple                  0         \n",
      " kup)                                                            \n",
      "                                                                 \n",
      " embedding (Embedding)       multiple                  21605400  \n",
      "                                                                 \n",
      " embedding_1 (Embedding)     multiple                  4578720   \n",
      "                                                                 \n",
      " embedding_2 (Embedding)     multiple                  2520      \n",
      "                                                                 \n",
      " embedding_3 (Embedding)     multiple                  180045    \n",
      "                                                                 \n",
      " embedding_4 (Embedding)     multiple                  38156     \n",
      "                                                                 \n",
      " embedding_5 (Embedding)     multiple                  180045    \n",
      "                                                                 \n",
      " sequential (Sequential)     (None, 1)                 37877     \n",
      "                                                                 \n",
      " ranking (Ranking)           multiple                  0         \n",
      "                                                                 \n",
      "=================================================================\n",
      "Total params: 26622764 (101.56 MB)\n",
      "Trainable params: 26622194 (101.56 MB)\n",
      "Non-trainable params: 570 (2.23 KB)\n",
      "_________________________________________________________________\n",
      "None\n"
     ]
    }
   ],
   "source": [
    "print(f\"Current working directory is now: {Path.cwd()}\")\n",
    "model_path = 'trained_tdlf_model'\n",
    "model_tdlf = tf.keras.models.load_model(model_path)\n",
    "print(model_tdlf.summary())"
   ]
  },
  {
   "cell_type": "code",
   "execution_count": 17,
   "metadata": {},
   "outputs": [],
   "source": [
    "train_data = tdlf_df_to_tf_dataset(train_df).shuffle(1024).batch(4096)\n",
    "test_data_tdlf = tdlf_df_to_tf_dataset(test_df).batch(4096)"
   ]
  },
  {
   "cell_type": "markdown",
   "metadata": {},
   "source": [
    "## Evaluate Metrics"
   ]
  },
  {
   "cell_type": "code",
   "execution_count": 18,
   "metadata": {},
   "outputs": [
    {
     "name": "stdout",
     "output_type": "stream",
     "text": [
      "17/17 [==============================] - 0s 5ms/step\n",
      "17/17 [==============================] - 1s 45ms/step\n",
      "17/17 [==============================] - 1s 45ms/step\n"
     ]
    },
    {
     "data": {
      "text/html": [
       "<div>\n",
       "<style scoped>\n",
       "    .dataframe tbody tr th:only-of-type {\n",
       "        vertical-align: middle;\n",
       "    }\n",
       "\n",
       "    .dataframe tbody tr th {\n",
       "        vertical-align: top;\n",
       "    }\n",
       "\n",
       "    .dataframe thead th {\n",
       "        text-align: right;\n",
       "    }\n",
       "</style>\n",
       "<table border=\"1\" class=\"dataframe\">\n",
       "  <thead>\n",
       "    <tr style=\"text-align: right;\">\n",
       "      <th></th>\n",
       "      <th>mse</th>\n",
       "      <th>rmse</th>\n",
       "      <th>r2</th>\n",
       "      <th>mase</th>\n",
       "    </tr>\n",
       "  </thead>\n",
       "  <tbody>\n",
       "    <tr>\n",
       "      <th>latent_factor_model</th>\n",
       "      <td>1.262906</td>\n",
       "      <td>1.123791</td>\n",
       "      <td>0.104354</td>\n",
       "      <td>0.835496</td>\n",
       "    </tr>\n",
       "    <tr>\n",
       "      <th>fpmc_variants</th>\n",
       "      <td>1.442097</td>\n",
       "      <td>1.200874</td>\n",
       "      <td>-0.022728</td>\n",
       "      <td>0.941939</td>\n",
       "    </tr>\n",
       "    <tr>\n",
       "      <th>temporal_dynamic_variants</th>\n",
       "      <td>1.267707</td>\n",
       "      <td>1.125925</td>\n",
       "      <td>0.100949</td>\n",
       "      <td>0.809450</td>\n",
       "    </tr>\n",
       "  </tbody>\n",
       "</table>\n",
       "</div>"
      ],
      "text/plain": [
       "                                mse      rmse        r2      mase\n",
       "latent_factor_model        1.262906  1.123791  0.104354  0.835496\n",
       "fpmc_variants              1.442097  1.200874 -0.022728  0.941939\n",
       "temporal_dynamic_variants  1.267707  1.125925  0.100949  0.809450"
      ]
     },
     "execution_count": 18,
     "metadata": {},
     "output_type": "execute_result"
    }
   ],
   "source": [
    "eval_result([model_blf, model_fpmc, model_tdlf], [test_data_blf, test_data_fpmc, test_data_tdlf])"
   ]
  },
  {
   "cell_type": "markdown",
   "metadata": {},
   "source": [
    "# Downstream Applications"
   ]
  },
  {
   "cell_type": "code",
   "execution_count": null,
   "metadata": {},
   "outputs": [
    {
     "name": "stdout",
     "output_type": "stream",
     "text": [
      "finished finding generalized categories. Takes 0.879101037979126\n",
      "finished bining locations. Takes 0.7532398700714111\n",
      "finished featuring hours. Takes 5.123684883117676\n",
      "finished creating model specalizied feature. Takes 1.5045130252838135\n"
     ]
    }
   ],
   "source": [
    "from rsdb.recommendation import Recommendation\n",
    "rec = Recommendation(model_tdlf, cleaned_df, \"TemporalDynamicVariants\")"
   ]
  },
  {
   "cell_type": "markdown",
   "metadata": {},
   "source": [
    "For reproducibility"
   ]
  },
  {
   "cell_type": "code",
   "execution_count": null,
   "metadata": {},
   "outputs": [],
   "source": [
    "seed = 1"
   ]
  },
  {
   "cell_type": "code",
   "execution_count": null,
   "metadata": {},
   "outputs": [
    {
     "name": "stdout",
     "output_type": "stream",
     "text": [
      "0x80c2c916f135cf75:0xe9cf50202b11b15d\n"
     ]
    }
   ],
   "source": [
    "rand_sample = cleaned_df.sample(5, random_state=seed)['gmap_id'].iloc[1]\n",
    "print(rand_sample)"
   ]
  },
  {
   "cell_type": "code",
   "execution_count": null,
   "metadata": {},
   "outputs": [],
   "source": [
    "rec_users = rec.recommend(rand_sample)"
   ]
  },
  {
   "cell_type": "markdown",
   "metadata": {},
   "source": [
    "Let's look at what our business do here"
   ]
  },
  {
   "cell_type": "code",
   "execution_count": null,
   "metadata": {},
   "outputs": [
    {
     "data": {
      "text/plain": [
       "['Auto repair shop']"
      ]
     },
     "execution_count": 66,
     "metadata": {},
     "output_type": "execute_result"
    }
   ],
   "source": [
    "cleaned_df[cleaned_df['gmap_id'] == rand_sample].iloc[1].category"
   ]
  },
  {
   "cell_type": "markdown",
   "metadata": {},
   "source": [
    "Let's merge the main data frame and look at what does our reconmanded users for our business likes to do else"
   ]
  },
  {
   "cell_type": "code",
   "execution_count": null,
   "metadata": {},
   "outputs": [
    {
     "data": {
      "text/plain": [
       "Auto repair shop             34\n",
       "Gas station                  24\n",
       "Restaurant                   23\n",
       "ATM                          21\n",
       "Fashion accessories store    19\n",
       "                             ..\n",
       "Foundation                    1\n",
       "Dessert restaurant            1\n",
       "Meat products                 1\n",
       "Hunan restaurant              1\n",
       "Outdoor sports store          1\n",
       "Name: category, Length: 490, dtype: int64"
      ]
     },
     "execution_count": 67,
     "metadata": {},
     "output_type": "execute_result"
    }
   ],
   "source": [
    "rec_users[\"reviewer_id\"] = rec_users[\"reviewer_id\"].astype(float)\n",
    "merged = cleaned_df.merge(rec_users, on=\"reviewer_id\")\n",
    "merged.category.explode().value_counts()"
   ]
  },
  {
   "cell_type": "markdown",
   "metadata": {},
   "source": [
    "Let's see our user's rating for thes second most popular category"
   ]
  },
  {
   "cell_type": "code",
   "execution_count": null,
   "metadata": {},
   "outputs": [
    {
     "name": "stdout",
     "output_type": "stream",
     "text": [
      "count    17351.000000\n",
      "mean         3.944787\n",
      "std          1.274876\n",
      "min          1.000000\n",
      "25%          3.000000\n",
      "50%          4.000000\n",
      "75%          5.000000\n",
      "max          5.000000\n",
      "Name: rating, dtype: float64\n",
      "5    0.473344\n",
      "4    0.223157\n",
      "3    0.166561\n",
      "1    0.088122\n",
      "2    0.048816\n",
      "Name: rating, dtype: float64\n"
     ]
    }
   ],
   "source": [
    "# Filter the dataframe to include only rows where the category contains the target category\n",
    "tourist_attraction_df = cleaned_df[cleaned_df['category'].apply(lambda x: 'Gas station' in x)]\n",
    "\n",
    "# Check the ratings of the filtered dataframe\n",
    "tourist_attraction_ratings = tourist_attraction_df['rating']\n",
    "print(tourist_attraction_ratings.describe())\n",
    "print(tourist_attraction_ratings.value_counts(normalize=True))"
   ]
  },
  {
   "cell_type": "markdown",
   "metadata": {},
   "source": [
    "Rouphly 70% of the `user_id` that matches our `gmap_id` also give high ratings to similar places in there historical interactions"
   ]
  }
 ],
 "metadata": {
  "kernelspec": {
   "display_name": "rsdb",
   "language": "python",
   "name": "python3"
  },
  "language_info": {
   "codemirror_mode": {
    "name": "ipython",
    "version": 3
   },
   "file_extension": ".py",
   "mimetype": "text/x-python",
   "name": "python",
   "nbconvert_exporter": "python",
   "pygments_lexer": "ipython3",
   "version": "3.8.18"
  }
 },
 "nbformat": 4,
 "nbformat_minor": 2
}
