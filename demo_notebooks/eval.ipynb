{
 "cells": [
  {
   "cell_type": "markdown",
   "metadata": {},
   "source": [
    "# Evaluations of Our System"
   ]
  },
  {
   "cell_type": "code",
   "execution_count": 1,
   "metadata": {},
   "outputs": [
    {
     "name": "stdout",
     "output_type": "stream",
     "text": [
      "Current working directory is now: /Users/kevinb/Desktop/cse158/RSDB\n"
     ]
    }
   ],
   "source": [
    "%load_ext autoreload\n",
    "%autoreload 2\n",
    "\n",
    "# notebook path get folder path, python path gets abs path\n",
    "from pathlib import Path\n",
    "import os\n",
    "current_dir = Path.cwd().parent\n",
    "os.chdir(current_dir)\n",
    "print(f\"Current working directory is now: {Path.cwd()}\")\n",
    "\n",
    "import tensorflow as tf\n",
    "import warnings\n",
    "warnings.filterwarnings(\"ignore\")\n",
    "\n",
    "from rsdb.preprocess.data_preprocessing import get_clean_review_data\n",
    "from rsdb.features.featuring import featuring_engineering\n",
    "\n",
    "url = \"https://datarepo.eng.ucsd.edu/mcauley_group/gdrive/googlelocal/review-California_10.json.gz\"\n",
    "meta_url = \"https://datarepo.eng.ucsd.edu/mcauley_group/gdrive/googlelocal/meta-California.json.gz\""
   ]
  },
  {
   "cell_type": "code",
   "execution_count": 2,
   "metadata": {},
   "outputs": [
    {
     "name": "stdout",
     "output_type": "stream",
     "text": [
      "/Users/kevinb/Desktop/cse158/RSDB/rsdb\n",
      "Loading metadata from: /Users/kevinb/Desktop/cse158/RSDB/rsdb/data/metadata.json.gz\n",
      "Loaded 463034 metadata entries.\n",
      "Processing review data from: /Users/kevinb/Desktop/cse158/RSDB/rsdb/data/data.json.gz\n"
     ]
    },
    {
     "name": "stderr",
     "output_type": "stream",
     "text": [
      "Processing chunks: 101it [00:31,  3.23it/s, Processed Rows=949381]                         \n"
     ]
    },
    {
     "name": "stdout",
     "output_type": "stream",
     "text": [
      "Processed 949381 review entries.\n",
      "finished finding generalized categories. Takes 0.8849248886108398\n",
      "finished bining locations. Takes 0.846621036529541\n",
      "finished featuring hours. Takes 3.940809965133667\n",
      "finished creating model specalizied feature. Takes 1.7310199737548828\n"
     ]
    }
   ],
   "source": [
    "cleaned_df = get_clean_review_data(url, meta_url)\n",
    "featured_df = featuring_engineering(cleaned_df)\n",
    "data_query = featured_df[['gmap_id', 'reviewer_id', 'rating']]"
   ]
  },
  {
   "cell_type": "code",
   "execution_count": 9,
   "metadata": {},
   "outputs": [],
   "source": [
    "train_df = featured_df.sample(frac=0.8, random_state=42) # not gonna use here\n",
    "test_df = featured_df.drop(train_df.index)"
   ]
  },
  {
   "cell_type": "markdown",
   "metadata": {},
   "source": [
    "## Load the FMPC Model"
   ]
  },
  {
   "cell_type": "code",
   "execution_count": 13,
   "metadata": {},
   "outputs": [
    {
     "name": "stdout",
     "output_type": "stream",
     "text": [
      "Current working directory is now: /Users/kevinb/Desktop/cse158/RSDB\n",
      "Model: \"fpmc_variants\"\n",
      "_________________________________________________________________\n",
      " Layer (type)                Output Shape              Param #   \n",
      "=================================================================\n",
      " embedding (Embedding)       multiple                  18724680  \n",
      "                                                                 \n",
      " embedding_1 (Embedding)     multiple                  3968224   \n",
      "                                                                 \n",
      " embedding_2 (Embedding)     multiple                  3968224   \n",
      "                                                                 \n",
      " embedding_3 (Embedding)     multiple                  180045    \n",
      "                                                                 \n",
      " embedding_4 (Embedding)     multiple                  38156     \n",
      "                                                                 \n",
      " embedding_5 (Embedding)     multiple                  312       \n",
      "                                                                 \n",
      " dense (Dense)               multiple                  2184      \n",
      "                                                                 \n",
      " dense_1 (Dense)             multiple                  2184      \n",
      "                                                                 \n",
      " ranking (Ranking)           multiple                  0         \n",
      "                                                                 \n",
      "=================================================================\n",
      "Total params: 26884010 (102.55 MB)\n",
      "Trainable params: 26884010 (102.55 MB)\n",
      "Non-trainable params: 0 (0.00 Byte)\n",
      "_________________________________________________________________\n",
      "None\n"
     ]
    }
   ],
   "source": [
    "print(f\"Current working directory is now: {Path.cwd()}\")\n",
    "model_path = 'trained_fpmc_model'\n",
    "model = tf.keras.models.load_model(model_path)\n",
    "print(model.summary())"
   ]
  },
  {
   "cell_type": "code",
   "execution_count": 75,
   "metadata": {},
   "outputs": [],
   "source": [
    "from rsdb.train import tdlf_df_to_tf_dataset, fpmc_df_to_tf_dataset\n",
    "train_data = fpmc_df_to_tf_dataset(train_df).shuffle(1024).batch(4096)\n",
    "test_data = fpmc_df_to_tf_dataset(test_df).batch(4096)"
   ]
  },
  {
   "cell_type": "code",
   "execution_count": 19,
   "metadata": {},
   "outputs": [
    {
     "name": "stdout",
     "output_type": "stream",
     "text": [
      "365/365 [==============================] - 16s 44ms/step - loss: 0.0068 - root_mean_squared_error: 0.0000e+00\n",
      "Test RMSE: 0.0\n"
     ]
    }
   ],
   "source": [
    "test_metrics = model.evaluate(test_data, return_dict=True)\n",
    "print(f\"Test RMSE: {test_metrics['root_mean_squared_error']}\")"
   ]
  },
  {
   "cell_type": "markdown",
   "metadata": {},
   "source": [
    "## Load the TDLF Model"
   ]
  },
  {
   "cell_type": "code",
   "execution_count": 7,
   "metadata": {},
   "outputs": [
    {
     "name": "stdout",
     "output_type": "stream",
     "text": [
      "Current working directory is now: /Users/kevinb/Desktop/cse158/RSDB\n",
      "Model: \"temporal_dynamic_variants\"\n",
      "_________________________________________________________________\n",
      " Layer (type)                Output Shape              Param #   \n",
      "=================================================================\n",
      " string_lookup (StringLooku  multiple                  0         \n",
      " p)                                                              \n",
      "                                                                 \n",
      " string_lookup_1 (StringLoo  multiple                  0         \n",
      " kup)                                                            \n",
      "                                                                 \n",
      " integer_lookup (IntegerLoo  multiple                  0         \n",
      " kup)                                                            \n",
      "                                                                 \n",
      " embedding (Embedding)       multiple                  21605400  \n",
      "                                                                 \n",
      " embedding_1 (Embedding)     multiple                  4578720   \n",
      "                                                                 \n",
      " embedding_2 (Embedding)     multiple                  2520      \n",
      "                                                                 \n",
      " embedding_3 (Embedding)     multiple                  180045    \n",
      "                                                                 \n",
      " embedding_4 (Embedding)     multiple                  38156     \n",
      "                                                                 \n",
      " embedding_5 (Embedding)     multiple                  180045    \n",
      "                                                                 \n",
      " sequential (Sequential)     (None, 1)                 37877     \n",
      "                                                                 \n",
      " ranking (Ranking)           multiple                  0         \n",
      "                                                                 \n",
      "=================================================================\n",
      "Total params: 26622764 (101.56 MB)\n",
      "Trainable params: 26622194 (101.56 MB)\n",
      "Non-trainable params: 570 (2.23 KB)\n",
      "_________________________________________________________________\n",
      "None\n"
     ]
    }
   ],
   "source": [
    "print(f\"Current working directory is now: {Path.cwd()}\")\n",
    "model_path = 'trained_tdlf_model'\n",
    "model = tf.keras.models.load_model(model_path)\n",
    "print(model.summary())"
   ]
  },
  {
   "cell_type": "code",
   "execution_count": 13,
   "metadata": {},
   "outputs": [],
   "source": [
    "train_data = tdlf_df_to_tf_dataset(train_df).shuffle(1024).batch(4096)\n",
    "test_data = tdlf_df_to_tf_dataset(test_df).batch(4096)"
   ]
  },
  {
   "cell_type": "code",
   "execution_count": 71,
   "metadata": {},
   "outputs": [
    {
     "name": "stdout",
     "output_type": "stream",
     "text": [
      "17/17 [==============================] - 1s 42ms/step - loss: 0.1334 - root_mean_squared_error: 0.0000e+00\n",
      "Test RMSE: 0.0\n"
     ]
    }
   ],
   "source": [
    "test_metrics = model.evaluate(test_data, return_dict=True)\n",
    "print(f\"Test RMSE: {test_metrics['root_mean_squared_error']}\")"
   ]
  },
  {
   "cell_type": "markdown",
   "metadata": {},
   "source": [
    "# Downstream Applications"
   ]
  },
  {
   "cell_type": "code",
   "execution_count": 47,
   "metadata": {},
   "outputs": [
    {
     "name": "stdout",
     "output_type": "stream",
     "text": [
      "finished finding generalized categories. Takes 0.879101037979126\n",
      "finished bining locations. Takes 0.7532398700714111\n",
      "finished featuring hours. Takes 5.123684883117676\n",
      "finished creating model specalizied feature. Takes 1.5045130252838135\n"
     ]
    }
   ],
   "source": [
    "from rsdb.recommendation import Recommendation\n",
    "rec = Recommendation(model, cleaned_df, \"TemporalDynamicVariants\")"
   ]
  },
  {
   "cell_type": "markdown",
   "metadata": {},
   "source": [
    "For reproducibility"
   ]
  },
  {
   "cell_type": "code",
   "execution_count": 63,
   "metadata": {},
   "outputs": [],
   "source": [
    "seed = 1"
   ]
  },
  {
   "cell_type": "code",
   "execution_count": 64,
   "metadata": {},
   "outputs": [
    {
     "name": "stdout",
     "output_type": "stream",
     "text": [
      "0x80c2c916f135cf75:0xe9cf50202b11b15d\n"
     ]
    }
   ],
   "source": [
    "rand_sample = cleaned_df.sample(5, random_state=seed)['gmap_id'].iloc[1]\n",
    "print(rand_sample)"
   ]
  },
  {
   "cell_type": "code",
   "execution_count": 65,
   "metadata": {},
   "outputs": [],
   "source": [
    "rec_users = rec.recommend(rand_sample)"
   ]
  },
  {
   "cell_type": "markdown",
   "metadata": {},
   "source": [
    "Let's look at what our business do here"
   ]
  },
  {
   "cell_type": "code",
   "execution_count": 66,
   "metadata": {},
   "outputs": [
    {
     "data": {
      "text/plain": [
       "['Auto repair shop']"
      ]
     },
     "execution_count": 66,
     "metadata": {},
     "output_type": "execute_result"
    }
   ],
   "source": [
    "cleaned_df[cleaned_df['gmap_id'] == rand_sample].iloc[1].category"
   ]
  },
  {
   "cell_type": "markdown",
   "metadata": {},
   "source": [
    "Let's merge the main data frame and look at what does our reconmanded users for our business likes to do else"
   ]
  },
  {
   "cell_type": "code",
   "execution_count": 67,
   "metadata": {},
   "outputs": [
    {
     "data": {
      "text/plain": [
       "Auto repair shop             34\n",
       "Gas station                  24\n",
       "Restaurant                   23\n",
       "ATM                          21\n",
       "Fashion accessories store    19\n",
       "                             ..\n",
       "Foundation                    1\n",
       "Dessert restaurant            1\n",
       "Meat products                 1\n",
       "Hunan restaurant              1\n",
       "Outdoor sports store          1\n",
       "Name: category, Length: 490, dtype: int64"
      ]
     },
     "execution_count": 67,
     "metadata": {},
     "output_type": "execute_result"
    }
   ],
   "source": [
    "rec_users[\"reviewer_id\"] = rec_users[\"reviewer_id\"].astype(float)\n",
    "merged = cleaned_df.merge(rec_users, on=\"reviewer_id\")\n",
    "merged.category.explode().value_counts()"
   ]
  },
  {
   "cell_type": "markdown",
   "metadata": {},
   "source": [
    "Let's see our user's rating for thes second most popular category"
   ]
  },
  {
   "cell_type": "code",
   "execution_count": 69,
   "metadata": {},
   "outputs": [
    {
     "name": "stdout",
     "output_type": "stream",
     "text": [
      "count    17351.000000\n",
      "mean         3.944787\n",
      "std          1.274876\n",
      "min          1.000000\n",
      "25%          3.000000\n",
      "50%          4.000000\n",
      "75%          5.000000\n",
      "max          5.000000\n",
      "Name: rating, dtype: float64\n",
      "5    0.473344\n",
      "4    0.223157\n",
      "3    0.166561\n",
      "1    0.088122\n",
      "2    0.048816\n",
      "Name: rating, dtype: float64\n"
     ]
    }
   ],
   "source": [
    "# Filter the dataframe to include only rows where the category contains the target category\n",
    "tourist_attraction_df = cleaned_df[cleaned_df['category'].apply(lambda x: 'Gas station' in x)]\n",
    "\n",
    "# Check the ratings of the filtered dataframe\n",
    "tourist_attraction_ratings = tourist_attraction_df['rating']\n",
    "print(tourist_attraction_ratings.describe())\n",
    "print(tourist_attraction_ratings.value_counts(normalize=True))"
   ]
  },
  {
   "cell_type": "markdown",
   "metadata": {},
   "source": [
    "Rouphly 70% of the `user_id` that matches our `gmap_id` also give high ratings to similar places in there historical interactions"
   ]
  }
 ],
 "metadata": {
  "kernelspec": {
   "display_name": "dsc80",
   "language": "python",
   "name": "python3"
  },
  "language_info": {
   "codemirror_mode": {
    "name": "ipython",
    "version": 3
   },
   "file_extension": ".py",
   "mimetype": "text/x-python",
   "name": "python",
   "nbconvert_exporter": "python",
   "pygments_lexer": "ipython3",
   "version": "3.8.18"
  }
 },
 "nbformat": 4,
 "nbformat_minor": 2
}
