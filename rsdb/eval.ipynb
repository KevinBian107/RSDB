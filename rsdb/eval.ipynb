{
 "cells": [
  {
   "cell_type": "markdown",
   "metadata": {},
   "source": [
    "# Evaluations"
   ]
  },
  {
   "cell_type": "code",
   "execution_count": 10,
   "metadata": {},
   "outputs": [
    {
     "name": "stdout",
     "output_type": "stream",
     "text": [
      "The autoreload extension is already loaded. To reload it, use:\n",
      "  %reload_ext autoreload\n",
      "Current working directory is now: /Users/kevinb/Desktop/cse158/RSDB\n"
     ]
    }
   ],
   "source": [
    "%load_ext autoreload\n",
    "%autoreload 2\n",
    "\n",
    "from pathlib import Path\n",
    "import os\n",
    "# notebook path get folder path, python path gets abs path\n",
    "current_dir = Path.cwd().parent\n",
    "os.chdir(current_dir)\n",
    "\n",
    "import numpy as np\n",
    "import tensorflow as tf\n",
    "import warnings\n",
    "warnings.filterwarnings(\"ignore\")\n",
    "\n",
    "print(f\"Current working directory is now: {Path.cwd()}\")\n",
    "\n",
    "from preprocess.data_preprocessing import *\n",
    "from features.featuring import *"
   ]
  },
  {
   "cell_type": "code",
   "execution_count": 11,
   "metadata": {},
   "outputs": [
    {
     "name": "stdout",
     "output_type": "stream",
     "text": [
      "/Users/kevinb/Desktop/cse158/RSDB/rsdb\n",
      "Loading metadata from: /Users/kevinb/Desktop/cse158/RSDB/rsdb/data/metadata.json.gz\n",
      "Loaded 463034 metadata entries.\n",
      "Processing review data from: /Users/kevinb/Desktop/cse158/RSDB/rsdb/data/data.json.gz\n"
     ]
    },
    {
     "name": "stderr",
     "output_type": "stream",
     "text": [
      "Processing chunks: 101it [01:17,  1.31it/s, Processed Rows=9581114]                         \n"
     ]
    },
    {
     "name": "stdout",
     "output_type": "stream",
     "text": [
      "Processed 9581114 review entries.\n",
      "finished finding generalized categories. Takes 8.154163122177124\n",
      "finished bining locations. Takes 9.085221290588379\n",
      "finished featuring hours. Takes 49.04840016365051\n",
      "finished creating model specalizied feature. Takes 22.112358808517456\n"
     ]
    }
   ],
   "source": [
    "url = \"https://datarepo.eng.ucsd.edu/mcauley_group/gdrive/googlelocal/review-California_10.json.gz\"\n",
    "meta_url = \"https://datarepo.eng.ucsd.edu/mcauley_group/gdrive/googlelocal/meta-California.json.gz\"\n",
    "\n",
    "cleaned_df = get_clean_review_data(url, meta_url)\n",
    "featured_df = featuring_engineering(cleaned_df)\n",
    "data_query = featured_df[['gmap_id', 'reviewer_id', 'rating']]"
   ]
  },
  {
   "cell_type": "code",
   "execution_count": 17,
   "metadata": {},
   "outputs": [],
   "source": [
    "train_df = featured_df.sample(frac=0.8, random_state=42)\n",
    "test_df = featured_df.drop(train_df.index)"
   ]
  },
  {
   "cell_type": "code",
   "execution_count": 13,
   "metadata": {},
   "outputs": [
    {
     "name": "stdout",
     "output_type": "stream",
     "text": [
      "Current working directory is now: /Users/kevinb/Desktop/cse158/RSDB\n",
      "Model: \"fpmc_variants\"\n",
      "_________________________________________________________________\n",
      " Layer (type)                Output Shape              Param #   \n",
      "=================================================================\n",
      " embedding (Embedding)       multiple                  18724680  \n",
      "                                                                 \n",
      " embedding_1 (Embedding)     multiple                  3968224   \n",
      "                                                                 \n",
      " embedding_2 (Embedding)     multiple                  3968224   \n",
      "                                                                 \n",
      " embedding_3 (Embedding)     multiple                  180045    \n",
      "                                                                 \n",
      " embedding_4 (Embedding)     multiple                  38156     \n",
      "                                                                 \n",
      " embedding_5 (Embedding)     multiple                  312       \n",
      "                                                                 \n",
      " dense (Dense)               multiple                  2184      \n",
      "                                                                 \n",
      " dense_1 (Dense)             multiple                  2184      \n",
      "                                                                 \n",
      " ranking (Ranking)           multiple                  0         \n",
      "                                                                 \n",
      "=================================================================\n",
      "Total params: 26884010 (102.55 MB)\n",
      "Trainable params: 26884010 (102.55 MB)\n",
      "Non-trainable params: 0 (0.00 Byte)\n",
      "_________________________________________________________________\n",
      "None\n"
     ]
    }
   ],
   "source": [
    "print(f\"Current working directory is now: {Path.cwd()}\")\n",
    "model_path = 'trained_fpmc_model'\n",
    "model = tf.keras.models.load_model(model_path)\n",
    "print(model.summary())"
   ]
  },
  {
   "cell_type": "code",
   "execution_count": 18,
   "metadata": {},
   "outputs": [],
   "source": [
    "from train import fpmc_df_to_tf_dataset, fpmc_df_to_tf_dataset\n",
    "# train_data = tlfm_df_to_tf_dataset(train_df).shuffle(1024).batch(4096)\n",
    "# test_data = tlfm_df_to_tf_dataset(test_df).batch(4096)\n",
    "\n",
    "train_data = fpmc_df_to_tf_dataset(train_df).shuffle(1024).batch(4096)\n",
    "test_data = fpmc_df_to_tf_dataset(test_df).batch(4096)"
   ]
  },
  {
   "cell_type": "code",
   "execution_count": 19,
   "metadata": {},
   "outputs": [
    {
     "name": "stdout",
     "output_type": "stream",
     "text": [
      "365/365 [==============================] - 16s 44ms/step - loss: 0.0068 - root_mean_squared_error: 0.0000e+00\n",
      "Test RMSE: 0.0\n"
     ]
    }
   ],
   "source": [
    "test_metrics = model.evaluate(test_data, return_dict=True)\n",
    "print(f\"Test RMSE: {test_metrics['root_mean_squared_error']}\")"
   ]
  },
  {
   "cell_type": "markdown",
   "metadata": {},
   "source": [
    "# Downstream Applications"
   ]
  },
  {
   "cell_type": "code",
   "execution_count": 25,
   "metadata": {},
   "outputs": [
    {
     "ename": "ModuleNotFoundError",
     "evalue": "No module named 'tlfm'",
     "output_type": "error",
     "traceback": [
      "\u001b[0;31m---------------------------------------------------------------------------\u001b[0m",
      "\u001b[0;31mModuleNotFoundError\u001b[0m                       Traceback (most recent call last)",
      "Cell \u001b[0;32mIn[25], line 1\u001b[0m\n\u001b[0;32m----> 1\u001b[0m \u001b[38;5;28;01mfrom\u001b[39;00m \u001b[38;5;21;01mrecommendation\u001b[39;00m \u001b[38;5;28;01mimport\u001b[39;00m \u001b[38;5;241m*\u001b[39m\n",
      "File \u001b[0;32m~/Desktop/cse158/RSDB/rsdb/recommendation.py:4\u001b[0m\n\u001b[1;32m      2\u001b[0m \u001b[38;5;28;01mimport\u001b[39;00m \u001b[38;5;21;01mpandas\u001b[39;00m \u001b[38;5;28;01mas\u001b[39;00m \u001b[38;5;21;01mpd\u001b[39;00m\n\u001b[1;32m      3\u001b[0m \u001b[38;5;28;01mimport\u001b[39;00m \u001b[38;5;21;01mtensorflow\u001b[39;00m \u001b[38;5;28;01mas\u001b[39;00m \u001b[38;5;21;01mtf\u001b[39;00m\n\u001b[0;32m----> 4\u001b[0m \u001b[38;5;28;01mfrom\u001b[39;00m \u001b[38;5;21;01mtlfm\u001b[39;00m\u001b[38;5;21;01m.\u001b[39;00m\u001b[38;5;21;01mtemporal_dynamic_v\u001b[39;00m \u001b[38;5;28;01mimport\u001b[39;00m TemporalDynamicModel\n\u001b[1;32m      5\u001b[0m \u001b[38;5;28;01mfrom\u001b[39;00m \u001b[38;5;21;01mfpmc\u001b[39;00m\u001b[38;5;21;01m.\u001b[39;00m\u001b[38;5;21;01mfpmc_v\u001b[39;00m \u001b[38;5;28;01mimport\u001b[39;00m FPMCVariants\n\u001b[1;32m      8\u001b[0m \u001b[38;5;28;01mclass\u001b[39;00m \u001b[38;5;21;01mRecommendation\u001b[39;00m:\n",
      "\u001b[0;31mModuleNotFoundError\u001b[0m: No module named 'tlfm'"
     ]
    }
   ],
   "source": [
    "from recommendation import *"
   ]
  },
  {
   "cell_type": "code",
   "execution_count": null,
   "metadata": {},
   "outputs": [],
   "source": []
  }
 ],
 "metadata": {
  "kernelspec": {
   "display_name": "dsc80",
   "language": "python",
   "name": "python3"
  },
  "language_info": {
   "codemirror_mode": {
    "name": "ipython",
    "version": 3
   },
   "file_extension": ".py",
   "mimetype": "text/x-python",
   "name": "python",
   "nbconvert_exporter": "python",
   "pygments_lexer": "ipython3",
   "version": "3.8.18"
  }
 },
 "nbformat": 4,
 "nbformat_minor": 2
}
