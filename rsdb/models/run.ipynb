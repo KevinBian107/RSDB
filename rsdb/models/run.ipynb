{
 "cells": [
  {
   "cell_type": "markdown",
   "metadata": {},
   "source": [
    "# Running Full Model"
   ]
  },
  {
   "cell_type": "code",
   "execution_count": 8,
   "metadata": {},
   "outputs": [
    {
     "name": "stdout",
     "output_type": "stream",
     "text": [
      "The autoreload extension is already loaded. To reload it, use:\n",
      "  %reload_ext autoreload\n"
     ]
    }
   ],
   "source": [
    "%load_ext autoreload\n",
    "%autoreload 2\n",
    "\n",
    "import numpy as np\n",
    "from pathlib import Path\n",
    "import tensorflow as tf\n",
    "import warnings\n",
    "warnings.filterwarnings(\"ignore\")"
   ]
  },
  {
   "cell_type": "code",
   "execution_count": 11,
   "metadata": {},
   "outputs": [],
   "source": [
    "from tlfm.temporal_dynamic_v import TemporalDynamicVariants\n",
    "from fpmc.fpmc_v import FPMCVariants"
   ]
  },
  {
   "cell_type": "markdown",
   "metadata": {},
   "source": [
    "***\n",
    "# Prepare Features\n",
    "***"
   ]
  },
  {
   "cell_type": "code",
   "execution_count": 12,
   "metadata": {},
   "outputs": [],
   "source": [
    "base_path = Path.cwd().parent.parent\n",
    "meta_file_path = base_path / \"data\" / \"california_clean_metadata.json.gz\"\n",
    "data_path = base_path / \"data\" / \"california_clean_data.json.gz\"\n",
    "\n",
    "df = ...\n",
    "data_query = df[['gmap_id', 'reviewer_id', 'rating']]\n",
    "df.info()\n",
    "\n",
    "# need sequential?\n",
    "train_df = df.sample(frac=0.8, random_state=42)\n",
    "test_df = df.drop(train_df.index)"
   ]
  },
  {
   "cell_type": "code",
   "execution_count": 15,
   "metadata": {},
   "outputs": [],
   "source": [
    "def tlfm_df_to_tf_dataset(dataframe):\n",
    "    '''change featuers from data frame to tensorfloe styles'''\n",
    "    \n",
    "    return tf.data.Dataset.from_tensor_slices({\n",
    "        \"reviewer_id\": dataframe[\"reviewer_id\"].astype(str),\n",
    "        \"gmap_id\": dataframe[\"gmap_id\"].astype(str),\n",
    "        \"time\": dataframe[\"review_time(unix)\"].astype(float),\n",
    "        \"time_bin\": dataframe[\"time_bin\"].astype(float),\n",
    "        \"user_mean_time\": dataframe[\"user_mean_time\"],\n",
    "        \"rating\": dataframe[\"rating\"],\n",
    "        \"isin_category_restaurant\": dataframe[\"isin_category_restaurant\"].astype(float),\n",
    "        \"isin_category_park\": dataframe[\"isin_category_park\"].astype(float),\n",
    "        \"isin_category_store\": dataframe[\"isin_category_store\"].astype(float),\n",
    "        \"avg_review_per_year\": dataframe[\"avg_review(per year)\"].astype(float),\n",
    "        \n",
    "        # Longitude bins\n",
    "        **{f\"lon_bin_{i}\": dataframe[f\"lon_bin_{i}\"].astype(float) for i in range(20) if f\"lon_bin_{i}\" in dataframe.columns},\n",
    "        # Latitude bins\n",
    "        **{f\"lat_bin_{i}\": dataframe[f\"lat_bin_{i}\"].astype(float) for i in range(20) if f\"lat_bin_{i}\" in dataframe.columns},\n",
    "    })\n",
    "\n",
    "def fpmc_df_to_tf_dataset(dataframe):\n",
    "    '''change featuers from data frame to tensorfloe styles'''\n",
    "    \n",
    "    user_lookup = tf.keras.layers.StringLookup(\n",
    "        vocabulary=dataframe[\"reviewer_id\"].unique(), mask_token=None\n",
    "    )\n",
    "    item_lookup = tf.keras.layers.StringLookup(\n",
    "        vocabulary=dataframe[\"gmap_id\"].unique(), mask_token=None\n",
    "    )\n",
    "    \n",
    "    return tf.data.Dataset.from_tensor_slices({\n",
    "        \"reviewer_id\": user_lookup(dataframe[\"reviewer_id\"]),\n",
    "        \"prev_item_id\": item_lookup(dataframe[\"prev_item_id\"]),\n",
    "        \"next_item_id\": item_lookup(dataframe[\"gmap_id\"]),\n",
    "        \"rating\": dataframe[\"rating\"].astype(float),\n",
    "        \"isin_category_restaurant\": dataframe[\"isin_category_restaurant\"].astype(float),\n",
    "        \"isin_category_park\": dataframe[\"isin_category_park\"].astype(float),\n",
    "        \"isin_category_store\": dataframe[\"isin_category_store\"].astype(float),\n",
    "        \"avg_review_per_year\": dataframe[\"avg_review(per year)\"].astype(float),\n",
    "        \n",
    "        # Longitude bins\n",
    "        **{f\"lon_bin_{i}\": dataframe[f\"lon_bin_{i}\"].astype(float) for i in range(20) if f\"lon_bin_{i}\" in dataframe.columns},\n",
    "        # Latitude bins\n",
    "        **{f\"lat_bin_{i}\": dataframe[f\"lat_bin_{i}\"].astype(float) for i in range(20) if f\"lat_bin_{i}\" in dataframe.columns},\n",
    "    })\n"
   ]
  },
  {
   "cell_type": "markdown",
   "metadata": {},
   "source": [
    "***\n",
    "# Description\n",
    "***\n",
    "\n",
    "## Temporal Latent Factor Model + Neural Corrolative (Dynamic Latent)\n",
    "**Notice that item $i$ refers to the business and user $u$ refers to the user.**\n",
    "\n",
    "**Modification**:\n",
    "\n",
    "$$\n",
    "\\gamma_{u,k}(t) = \\gamma_{u,k} + \\alpha_{u,k} \\cdot \\text{dev}_u(t) + \\gamma_{u,k,t}\n",
    "$$\n",
    "\n",
    "$$\n",
    "\\hat{r}_{u,i,t} = \\mu + b_i + b_i(t) + b_u + \\alpha_u \\cdot \\text{dev}_u(t) + f(\\gamma_{u,k}(t), \\gamma_{i,k})\n",
    "$$\n",
    "\n",
    "**Optimization**:\n",
    "\n",
    "$$\n",
    "\\arg \\min_{\\alpha, \\beta, \\gamma} \\sum_{u,i} \\left(\\mu + b_i + b_i(t) + b_u + \\alpha_u \\cdot \\text{dev}_u(t) + f(\\gamma_{u,k}(t), \\gamma_{i,k}) - R_{u,i} \\right)^2 + \\lambda \\left[ \\sum_u \\beta_u^2 + \\sum_i \\beta_i^2 + \\sum_i \\left\\| \\gamma_i \\right\\|_2^2 + \\sum_u \\left\\| \\gamma_u \\right\\|_2^2 \\right]\n",
    "$$"
   ]
  },
  {
   "cell_type": "code",
   "execution_count": null,
   "metadata": {},
   "outputs": [],
   "source": [
    "train_data = tlfm_df_to_tf_dataset(train_df).shuffle(1024).batch(4096)\n",
    "test_data = tlfm_df_to_tf_dataset(test_df).batch(4096)"
   ]
  },
  {
   "cell_type": "code",
   "execution_count": 13,
   "metadata": {},
   "outputs": [],
   "source": [
    "embedding_dim = 90\n",
    "dense_units = 90\n",
    "l2_reg = 0.0201\n",
    "time_bins= 10\n",
    "model = TemporalDynamicVariants(l2_reg, dense_units, embedding_dim, data_query, time_bins)\n",
    "\n",
    "early_stopping = tf.keras.callbacks.EarlyStopping(\n",
    "    monitor=\"val_root_mean_squared_error\", \n",
    "    patience=10,\n",
    "    min_delta=0.001,\n",
    "    restore_best_weights=True\n",
    ")\n",
    "\n",
    "lr_schedule = tf.keras.optimizers.schedules.ExponentialDecay(\n",
    "    initial_learning_rate=1e-2, \n",
    "    decay_steps=1000, \n",
    "    decay_rate=0.8\n",
    ")\n",
    "\n",
    "model.compile(optimizer=tf.keras.optimizers.Adam(learning_rate=lr_schedule))\n",
    "model.fit(train_data, epochs=500, validation_data=test_data, callbacks=[early_stopping])"
   ]
  },
  {
   "cell_type": "code",
   "execution_count": 14,
   "metadata": {},
   "outputs": [],
   "source": [
    "test_metrics = model.evaluate(test_data, return_dict=True)\n",
    "print(f\"Test RMSE: {test_metrics['root_mean_squared_error']}\")\n",
    "\n",
    "predictions = []\n",
    "actual_ratings = []\n",
    "for batch in test_data:\n",
    "    predicted_ratings = model(batch).numpy()\n",
    "    actual_ratings.extend(batch[\"rating\"].numpy())\n",
    "    predictions.extend(predicted_ratings)\n",
    "\n",
    "predictions = np.array(predictions)\n",
    "actual_ratings = np.array(actual_ratings)\n",
    "\n",
    "rmse = np.sqrt(np.mean((predictions - actual_ratings) ** 2))\n",
    "print(f\"RECHECK RMSE: {rmse}\")\n",
    "\n",
    "if np.all(actual_ratings == actual_ratings.round()):\n",
    "    correct = np.mean(predictions.round() == actual_ratings)\n",
    "    print(f\"Rounded Accuracy: {correct}\")\n",
    "else:\n",
    "    print(\"Actual ratings are not integers, skipping rounded accuracy calculation.\")"
   ]
  },
  {
   "cell_type": "markdown",
   "metadata": {},
   "source": [
    "***\n",
    "# Description\n",
    "***\n",
    "\n",
    "# Factorized Personalized Markov Chain\n",
    "\n",
    "$$\n",
    "p(i_{t+1} \\mid i_t, u) = p(i_{t+1} \\mid i_t, u)\n",
    "$$\n",
    "\n",
    "In Factorized Personalized Markov Chain (FPMC), we do this calculation by:\n",
    "\n",
    "$$\n",
    "f(i \\mid u, j) = \\underbrace{\\gamma_{ui} \\cdot \\gamma_{iu}}_{\\mathclap{f(i \\mid u)}} + \\underbrace{\\gamma_{ij} \\cdot \\gamma_{ji}}_{\\mathclap{f(i \\mid j)}} + \\underbrace{\\gamma_{uj} \\cdot \\gamma_{ju}}_{\\mathclap{f(u, j)}}.\n",
    "$$\n",
    "\n",
    "Neglecting independent terms:\n",
    "\n",
    "$$\n",
    "f(i \\mid u, j) = \n",
    "\\underbrace{\\gamma_{ui} \\cdot \\gamma_{iu}}_{\\text{user's compatibility with the next item}} + \n",
    "\\underbrace{\\gamma_{ij} \\cdot \\gamma_{ji}}_{\\text{next item's compatibility with the previous item}}\n",
    "$$"
   ]
  },
  {
   "cell_type": "code",
   "execution_count": null,
   "metadata": {},
   "outputs": [],
   "source": [
    "train_data = fpmc_df_to_tf_dataset(train_df).shuffle(1024).batch(4096)\n",
    "test_data = fpmc_df_to_tf_dataset(test_df).batch(4096)"
   ]
  },
  {
   "cell_type": "code",
   "execution_count": null,
   "metadata": {},
   "outputs": [],
   "source": [
    "embedding_dim = 32\n",
    "l2_reg = 0.0201\n",
    "lr = 1e-3\n",
    "model = FPMCVariants(l2_reg=l2_reg, embedding_dim=embedding_dim, data_query=data_query)\n",
    "\n",
    "early_stopping = tf.keras.callbacks.EarlyStopping(\n",
    "    monitor=\"val_root_mean_squared_error\", \n",
    "    patience=10,\n",
    "    min_delta=0.001,\n",
    "    restore_best_weights=True\n",
    ")\n",
    "\n",
    "model.compile(optimizer=tf.keras.optimizers.Adam(learning_rate=lr))\n",
    "\n",
    "history = model.fit(\n",
    "    train_data, \n",
    "    validation_data=test_data, \n",
    "    epochs=50, \n",
    "    callbacks=[early_stopping]\n",
    ")"
   ]
  },
  {
   "cell_type": "code",
   "execution_count": null,
   "metadata": {},
   "outputs": [],
   "source": [
    "test_metrics = model.evaluate(test_data, return_dict=True)\n",
    "print(f\"Test RMSE: {test_metrics['root_mean_squared_error']}\")\n",
    "\n",
    "predictions = []\n",
    "actual_ratings = []\n",
    "for batch in test_data:\n",
    "    predicted_ratings = model(batch).numpy()\n",
    "    actual_ratings.extend(batch[\"rating\"].numpy())\n",
    "    predictions.extend(predicted_ratings)\n",
    "\n",
    "predictions = np.array(predictions)\n",
    "actual_ratings = np.array(actual_ratings)\n",
    "\n",
    "rmse = np.sqrt(np.mean((predictions - actual_ratings) ** 2))\n",
    "print(f\"RECHECK RMSE: {rmse}\")\n",
    "\n",
    "if np.all(actual_ratings == actual_ratings.round()):\n",
    "    correct = np.mean(predictions.round() == actual_ratings)\n",
    "    print(f\"Rounded Accuracy: {correct}\")\n",
    "else:\n",
    "    print(\"Actual ratings are not integers, skipping rounded accuracy calculation.\")"
   ]
  }
 ],
 "metadata": {
  "kernelspec": {
   "display_name": "dsc80",
   "language": "python",
   "name": "python3"
  },
  "language_info": {
   "codemirror_mode": {
    "name": "ipython",
    "version": 3
   },
   "file_extension": ".py",
   "mimetype": "text/x-python",
   "name": "python",
   "nbconvert_exporter": "python",
   "pygments_lexer": "ipython3",
   "version": "3.8.18"
  }
 },
 "nbformat": 4,
 "nbformat_minor": 2
}
