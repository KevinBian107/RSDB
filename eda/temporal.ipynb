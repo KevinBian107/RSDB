{
 "cells": [
  {
   "cell_type": "markdown",
   "metadata": {},
   "source": [
    "# Temporal Relationships Modelings ⌚️"
   ]
  },
  {
   "cell_type": "code",
   "execution_count": 2,
   "metadata": {},
   "outputs": [],
   "source": [
    "from pathlib import Path\n",
    "import pandas as pd\n",
    "import seaborn as sns\n",
    "import matplotlib.pyplot as plt\n",
    "from sklearn.cluster import KMeans\n",
    "import seaborn as sns\n",
    "import warnings\n",
    "warnings.filterwarnings(\"ignore\")"
   ]
  },
  {
   "cell_type": "markdown",
   "metadata": {},
   "source": [
    "Load in cleaned dataset"
   ]
  },
  {
   "cell_type": "code",
   "execution_count": 3,
   "metadata": {},
   "outputs": [],
   "source": [
    "base_path = Path.cwd().parent\n",
    "meta_file_path = base_path / \"eda\" / \"data\" / \"hawaii_metadata.json.gz\"\n",
    "data_path = base_path / \"eda\" / \"data\" / \"hawaii_data.json.gz\"\n",
    "\n",
    "meta_df = pd.read_json(meta_file_path, compression = 'gzip', lines = True)\n",
    "df = pd.read_json(data_path, compression = 'gzip', lines = True)\n",
    "df = df.reset_index()"
   ]
  },
  {
   "cell_type": "code",
   "execution_count": null,
   "metadata": {},
   "outputs": [],
   "source": [
    "df.info()"
   ]
  },
  {
   "cell_type": "code",
   "execution_count": null,
   "metadata": {},
   "outputs": [],
   "source": [
    "meta_df.info()"
   ]
  },
  {
   "cell_type": "markdown",
   "metadata": {},
   "source": [
    "Merging two df"
   ]
  },
  {
   "cell_type": "code",
   "execution_count": null,
   "metadata": {},
   "outputs": [],
   "source": [
    "merged_df = df.merge(meta_df, on='gmap_id', how='inner')\n",
    "columns_to_remove = [col for col in df.columns if col.endswith('_y')]\n",
    "merged_clean = df.drop(columns=columns_to_remove)\n",
    "merged_clean.info()"
   ]
  },
  {
   "cell_type": "markdown",
   "metadata": {},
   "source": [
    "## Rolling Means Windows"
   ]
  },
  {
   "cell_type": "code",
   "execution_count": 159,
   "metadata": {},
   "outputs": [],
   "source": [
    "df['review_time(unix)'] = df['review_time(unix)'] / 1000\n",
    "df['review_time(unix)'] = pd.to_datetime(df['review_time(unix)'], unit='s', errors='coerce')\n",
    "df = df.sort_values('review_time(unix)')\n",
    "df.set_index('review_time(unix)', inplace=True)"
   ]
  },
  {
   "cell_type": "code",
   "execution_count": null,
   "metadata": {},
   "outputs": [],
   "source": [
    "# Rolling means\n",
    "columns_to_analyze = ['rating', 'avg_rating', 'num_of_reviews']\n",
    "window_size = '30D'\n",
    "\n",
    "rolling_stats = df[columns_to_analyze].rolling(window=window_size).mean()\n",
    "\n",
    "for column in columns_to_analyze:\n",
    "    plt.figure(figsize=(10, 5))\n",
    "    plt.plot(rolling_stats.index, rolling_stats[column], label=column)\n",
    "    plt.title(f\"Sliding Window Trends ({window_size} Window) With {column}\")\n",
    "    plt.xlabel(\"Date\")\n",
    "    plt.ylabel(\"Values\")\n",
    "    plt.legend()\n",
    "    plt.grid()\n",
    "    plt.show()"
   ]
  },
  {
   "cell_type": "markdown",
   "metadata": {},
   "source": [
    "# Temporal Heatmap"
   ]
  },
  {
   "cell_type": "code",
   "execution_count": null,
   "metadata": {},
   "outputs": [],
   "source": [
    "df['hour'] = df.index.hour\n",
    "df['weekday'] = df.index.weekday\n",
    "\n",
    "heatmap_data = df.pivot_table(index='weekday', columns='hour', values='rating', aggfunc='mean')\n",
    "\n",
    "plt.figure(figsize=(12, 6))\n",
    "sns.heatmap(heatmap_data, cmap=\"YlGnBu\", annot=True, fmt=\".1f\")\n",
    "plt.title('Rating Heatmap (Weekday vs Hour)')\n",
    "plt.xlabel('Hour of Day')\n",
    "plt.ylabel('Day of Week')\n",
    "plt.show()\n"
   ]
  },
  {
   "cell_type": "markdown",
   "metadata": {},
   "source": [
    "# Temporal Anomaly Detection"
   ]
  },
  {
   "cell_type": "code",
   "execution_count": null,
   "metadata": {},
   "outputs": [],
   "source": [
    "# Rolling mean and standard deviation\n",
    "rolling_mean = df['rating'].rolling(window=30).mean()\n",
    "rolling_std = df['rating'].rolling(window=30).std()\n",
    "\n",
    "plt.figure(figsize=(10, 6))\n",
    "plt.plot(df.index, df['rating'], label='Rating')\n",
    "plt.plot(df.index, rolling_mean, color='orange', label='30-Day Rolling Mean')\n",
    "plt.fill_between(df.index, rolling_mean - 2 * rolling_std, rolling_mean + 2 * rolling_std, color='gray', alpha=0.3, label='Anomaly Range')\n",
    "plt.legend()\n",
    "plt.title('Anomaly Detection in Rating')\n",
    "plt.xlabel('Date')\n",
    "plt.ylabel('Rating')\n",
    "plt.grid()\n",
    "plt.show()"
   ]
  },
  {
   "cell_type": "markdown",
   "metadata": {},
   "source": [
    "# Moving Averages Across Time"
   ]
  },
  {
   "cell_type": "code",
   "execution_count": null,
   "metadata": {},
   "outputs": [],
   "source": [
    "short_window = df['rating'].rolling(window=7).mean()\n",
    "long_window = df['rating'].rolling(window=30).mean()\n",
    "\n",
    "plt.figure(figsize=(10, 6))\n",
    "plt.plot(df.index, df['rating'], label='Rating')\n",
    "plt.plot(df.index, short_window, label='7-Day Moving Average', color='orange')\n",
    "plt.plot(df.index, long_window, label='30-Day Moving Average', color='green')\n",
    "plt.legend()\n",
    "plt.title('Moving Averages of Rating')\n",
    "plt.xlabel('Date')\n",
    "plt.ylabel('Rating')\n",
    "plt.grid()\n",
    "plt.show()"
   ]
  },
  {
   "cell_type": "markdown",
   "metadata": {},
   "source": [
    "# Rolling Correlation Between `avg_rating` and `num_of_reviews`"
   ]
  },
  {
   "cell_type": "code",
   "execution_count": null,
   "metadata": {},
   "outputs": [],
   "source": [
    "correlation = df['avg_rating'].rolling(window=30).corr(df['num_of_reviews'])\n",
    "\n",
    "plt.figure(figsize=(10, 6))\n",
    "plt.plot(correlation, label='Rolling Correlation (30-Day Window)')\n",
    "plt.title('Correlation Between avg_rating and num_of_reviews')\n",
    "plt.xlabel('Date')\n",
    "plt.ylabel('Correlation')\n",
    "plt.legend()\n",
    "plt.grid()\n",
    "plt.show()"
   ]
  },
  {
   "cell_type": "markdown",
   "metadata": {},
   "source": [
    "# Temporal Clusters\n",
    "Based on the `time feature` (all numerical columns available), form different clusters using KMeans, then observe trends of these clusters.\n",
    "- `df.resample('M').mean()` group data by Month and averages data based on so.\n",
    "- Unit of opertaion is based on month now, so seeing how all the numerical data would interact based on month\n",
    "- **Result represent that we are grouping a few different rows or months together, showing that there is a numerical similarity in the features (`rating`, `num_reviews`)**"
   ]
  },
  {
   "cell_type": "code",
   "execution_count": null,
   "metadata": {},
   "outputs": [],
   "source": [
    "NUM_CLUSTER = 3\n",
    "time_features = df.resample('M').mean()\n",
    "time_features.fillna(time_features.mean(), inplace=True)\n",
    "time_features_normalized = (time_features - time_features.mean()) / time_features.std()\n",
    "time_features_normalized.drop(columns=['index', 'reviewer_id', 'has_rep', 'latitude', 'longitude', 'avg_rating'])"
   ]
  },
  {
   "cell_type": "code",
   "execution_count": null,
   "metadata": {},
   "outputs": [],
   "source": [
    "kmeans = KMeans(n_clusters=NUM_CLUSTER)\n",
    "time_features['cluster'] = kmeans.fit_predict(time_features_normalized)\n",
    "\n",
    "plt.figure(figsize=(10, 6))\n",
    "for cluster in range(NUM_CLUSTER):\n",
    "    cluster_data = time_features[time_features['cluster'] == cluster]\n",
    "    plt.plot(cluster_data.index, cluster_data['rating'], label=f'Cluster {cluster}')\n",
    "\n",
    "plt.legend()\n",
    "plt.title('Temporal Clustering of Rating + Num_reviews Based on Month')\n",
    "plt.xlabel('Date')\n",
    "plt.ylabel('Rating')\n",
    "plt.grid()\n",
    "plt.show()"
   ]
  },
  {
   "cell_type": "code",
   "execution_count": null,
   "metadata": {},
   "outputs": [],
   "source": [
    "NUM_CLUSTER = 3\n",
    "time_features = df.resample('Y').mean()\n",
    "time_features.fillna(time_features.mean(), inplace=True)\n",
    "time_features_normalized = (time_features - time_features.mean()) / time_features.std()\n",
    "time_features_normalized.drop(columns=['index', 'reviewer_id', 'has_rep', 'latitude', 'longitude', 'avg_rating'])\n",
    "\n",
    "kmeans = KMeans(n_clusters=NUM_CLUSTER)\n",
    "time_features['cluster'] = kmeans.fit_predict(time_features_normalized)\n",
    "\n",
    "plt.figure(figsize=(10, 6))\n",
    "for cluster in range(NUM_CLUSTER):\n",
    "    cluster_data = time_features[time_features['cluster'] == cluster]\n",
    "    plt.plot(cluster_data.index, cluster_data['rating'], label=f'Cluster {cluster}')\n",
    "\n",
    "plt.legend()\n",
    "plt.title('Temporal Clustering of Rating + Num_reviews Based on Year')\n",
    "plt.xlabel('Date')\n",
    "plt.ylabel('Rating')\n",
    "plt.grid()\n",
    "plt.show()"
   ]
  },
  {
   "cell_type": "code",
   "execution_count": null,
   "metadata": {},
   "outputs": [],
   "source": [
    "NUM_CLUSTER = 3\n",
    "time_features = df.resample('D').mean()\n",
    "time_features.fillna(time_features.mean(), inplace=True)\n",
    "time_features_normalized = (time_features - time_features.mean()) / time_features.std()\n",
    "time_features_normalized.drop(columns=['index', 'reviewer_id', 'has_rep', 'latitude', 'longitude', 'avg_rating'])\n",
    "\n",
    "kmeans = KMeans(n_clusters=NUM_CLUSTER)\n",
    "time_features['cluster'] = kmeans.fit_predict(time_features_normalized)\n",
    "\n",
    "plt.figure(figsize=(10, 6))\n",
    "for cluster in range(NUM_CLUSTER):\n",
    "    cluster_data = time_features[time_features['cluster'] == cluster]\n",
    "    plt.plot(cluster_data.index, cluster_data['rating'], label=f'Cluster {cluster}')\n",
    "\n",
    "plt.legend()\n",
    "plt.title('Temporal Clustering of Rating + Num_reviews Based on Days')\n",
    "plt.xlabel('Date')\n",
    "plt.ylabel('Rating')\n",
    "plt.grid()\n",
    "plt.show()"
   ]
  },
  {
   "cell_type": "code",
   "execution_count": null,
   "metadata": {},
   "outputs": [],
   "source": [
    "NUM_CLUSTER = 5\n",
    "time_features = df.resample('M').mean()\n",
    "time_features.fillna(time_features.mean(), inplace=True)\n",
    "time_features_normalized = (time_features - time_features.mean()) / time_features.std()\n",
    "time_features_normalized.drop(columns=['index', 'reviewer_id', 'has_rep', 'latitude', 'longitude', 'avg_rating', 'num_of_reviews'])\n",
    "\n",
    "kmeans = KMeans(n_clusters=NUM_CLUSTER)\n",
    "time_features['cluster'] = kmeans.fit_predict(time_features_normalized)\n",
    "\n",
    "plt.figure(figsize=(10, 6))\n",
    "for cluster in range(NUM_CLUSTER):\n",
    "    cluster_data = time_features[time_features['cluster'] == cluster]\n",
    "    plt.plot(cluster_data.index, cluster_data['rating'], label=f'Cluster {cluster}')\n",
    "\n",
    "plt.legend()\n",
    "plt.title('Temporal Clustering of Rating Based on Months')\n",
    "plt.xlabel('Date')\n",
    "plt.ylabel('Rating')\n",
    "plt.grid()\n",
    "plt.show()"
   ]
  },
  {
   "cell_type": "markdown",
   "metadata": {},
   "source": [
    "# Temporal Popularity Changes in Category and Hours"
   ]
  },
  {
   "cell_type": "markdown",
   "metadata": {},
   "source": [
    "Group by year and category for rating sum"
   ]
  },
  {
   "cell_type": "code",
   "execution_count": null,
   "metadata": {},
   "outputs": [],
   "source": [
    "NUM_POP = 15\n",
    "merged_clean['category'] = merged_clean['category'].apply(lambda x: ', '.join(x) if isinstance(x, list) else x)\n",
    "\n",
    "popular_categories = merged_clean.groupby('category')['rating'].sum().sort_values(ascending=False).head(NUM_POP).index\n",
    "filtered_df = merged_clean[merged_clean['category'].isin(popular_categories)]\n",
    "\n",
    "review_trends_popular = filtered_df.groupby([filtered_df['review_time(unix)'].dt.to_period('Y'), 'category'])['rating'].sum().unstack()\n",
    "\n",
    "plt.figure(figsize=(20, 8))\n",
    "sns.heatmap(review_trends_popular.T, cmap=\"Purples\", annot=True, fmt=\"g\", cbar_kws={'label': 'Rating Sum'})\n",
    "plt.title(f'Yearly Review Trends by Most Popular {NUM_POP} Categories')\n",
    "plt.xlabel('Time (Year)')\n",
    "plt.ylabel('Business Category')\n",
    "plt.xticks(rotation=45)\n",
    "plt.tight_layout()\n",
    "plt.show()"
   ]
  },
  {
   "cell_type": "code",
   "execution_count": null,
   "metadata": {},
   "outputs": [],
   "source": [
    "NUM_POP = 15\n",
    "merged_clean['category'] = merged_clean['category'].apply(lambda x: ', '.join(x) if isinstance(x, list) else x)\n",
    "\n",
    "popular_categories = merged_clean.groupby('category')['rating'].sum().sort_values(ascending=False).head(NUM_POP).index\n",
    "filtered_df = merged_clean[merged_clean['category'].isin(popular_categories)]\n",
    "\n",
    "review_trends_popular = filtered_df.groupby([filtered_df['review_time(unix)'].dt.to_period('Y'), 'category'])['rating'].count().unstack()\n",
    "\n",
    "plt.figure(figsize=(20, 8))\n",
    "sns.heatmap(review_trends_popular.T, cmap=\"Greens\", annot=True, fmt=\"g\", cbar_kws={'label': 'Counts'})\n",
    "plt.title(f'Yearly Review Trends by Most Popular {NUM_POP} Categories')\n",
    "plt.xlabel('Time (Year)')\n",
    "plt.ylabel('Business Category')\n",
    "plt.xticks(rotation=45)\n",
    "plt.tight_layout()\n",
    "plt.show()"
   ]
  },
  {
   "cell_type": "code",
   "execution_count": null,
   "metadata": {},
   "outputs": [],
   "source": [
    "merged_clean.hours.iloc[0]"
   ]
  },
  {
   "cell_type": "code",
   "execution_count": null,
   "metadata": {},
   "outputs": [],
   "source": [
    "NUM_POP = 15\n",
    "merged_clean['hours'] = merged_clean['hours'].apply(lambda x: ', '.join(x[0]) if isinstance(x, list) else x)\n",
    "\n",
    "popular_categories = merged_clean.groupby('hours')['rating'].sum().sort_values(ascending=False).head(NUM_POP).index\n",
    "filtered_df = merged_clean[merged_clean['hours'].isin(popular_categories)]\n",
    "\n",
    "review_trends_popular = filtered_df.groupby([filtered_df['review_time(unix)'].dt.to_period('Y'), 'hours'])['rating'].sum().unstack()\n",
    "\n",
    "plt.figure(figsize=(20, 8))\n",
    "sns.heatmap(review_trends_popular.T, cmap=\"Purples\", annot=True, fmt=\"g\", cbar_kws={'label': 'Rating Sum'})\n",
    "plt.title(f'Yearly Review Trends by Most Popular {NUM_POP} Hours')\n",
    "plt.xlabel('Time (Year)')\n",
    "plt.ylabel('Business Category')\n",
    "plt.xticks(rotation=45)\n",
    "plt.tight_layout()\n",
    "plt.show()"
   ]
  },
  {
   "cell_type": "code",
   "execution_count": null,
   "metadata": {},
   "outputs": [],
   "source": [
    "NUM_POP = 15\n",
    "merged_clean['hours'] = merged_clean['hours'].apply(lambda x: ', '.join(x[0]) if isinstance(x, list) else x)\n",
    "\n",
    "popular_categories = merged_clean.groupby('hours')['rating'].sum().sort_values(ascending=False).head(NUM_POP).index\n",
    "filtered_df = merged_clean[merged_clean['hours'].isin(popular_categories)]\n",
    "\n",
    "review_trends_popular = filtered_df.groupby([filtered_df['review_time(unix)'].dt.to_period('Y'), 'hours'])['rating'].count().unstack()\n",
    "\n",
    "plt.figure(figsize=(20, 8))\n",
    "sns.heatmap(review_trends_popular.T, cmap=\"Greens\", annot=True, fmt=\"g\", cbar_kws={'label': 'Counts'})\n",
    "plt.title(f'Yearly Review Trends by Most Popular {NUM_POP} Hours')\n",
    "plt.xlabel('Time (Year)')\n",
    "plt.ylabel('Business Category')\n",
    "plt.xticks(rotation=45)\n",
    "plt.tight_layout()\n",
    "plt.show()"
   ]
  },
  {
   "cell_type": "markdown",
   "metadata": {},
   "source": [
    "# Temporal Trend For Top Popular Business"
   ]
  },
  {
   "cell_type": "code",
   "execution_count": null,
   "metadata": {},
   "outputs": [],
   "source": [
    "# Get the top 5 businesses by review count\n",
    "TOP_BUSINESS_NUM = 10\n",
    "top_businesses = merged_clean['gmap_name'].value_counts().head(TOP_BUSINESS_NUM).index\n",
    "\n",
    "plt.figure(figsize=(12, 6))\n",
    "for business in top_businesses:\n",
    "    business_reviews = merged_clean[merged_clean['gmap_name'] == business].groupby(\n",
    "        merged_clean['review_time(unix)'].dt.to_period('M')\n",
    "    ).size()\n",
    "    business_reviews.plot(label=business)\n",
    "\n",
    "plt.title(f'Review Trends for {TOP_BUSINESS_NUM} Top Businesses Over Time')\n",
    "plt.xlabel('Time (Month-Year)')\n",
    "plt.ylabel('Number of Reviews')\n",
    "plt.legend(title=\"Top Businesses\")\n",
    "plt.xticks(rotation=45)\n",
    "plt.tight_layout()\n",
    "plt.show()\n"
   ]
  }
 ],
 "metadata": {
  "kernelspec": {
   "display_name": "cse158",
   "language": "python",
   "name": "python3"
  },
  "language_info": {
   "codemirror_mode": {
    "name": "ipython",
    "version": 3
   },
   "file_extension": ".py",
   "mimetype": "text/x-python",
   "name": "python",
   "nbconvert_exporter": "python",
   "pygments_lexer": "ipython3",
   "version": "3.8.18"
  }
 },
 "nbformat": 4,
 "nbformat_minor": 2
}
