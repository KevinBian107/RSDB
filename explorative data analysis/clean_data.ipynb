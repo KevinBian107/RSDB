{
 "cells": [
  {
   "cell_type": "markdown",
   "metadata": {},
   "source": [
    "# Data Cleaning 📊🧹"
   ]
  },
  {
   "cell_type": "code",
   "execution_count": 2,
   "metadata": {},
   "outputs": [],
   "source": [
    "import gzip\n",
    "from pathlib import Path\n",
    "import pandas as pd\n",
    "import json\n",
    "import matplotlib.pyplot as plt\n",
    "import seaborn as sns\n",
    "import numpy as np\n",
    "\n",
    "import warnings\n",
    "warnings.filterwarnings(\"ignore\")"
   ]
  },
  {
   "cell_type": "markdown",
   "metadata": {},
   "source": [
    "## handling `ca_gmap_infos`"
   ]
  },
  {
   "cell_type": "code",
   "execution_count": 3,
   "metadata": {},
   "outputs": [],
   "source": [
    "base_path = Path.cwd().parent\n",
    "meta_file_path = base_path / \"data\" / \"california_metadata.json.gz\"\n",
    "\n",
    "ca_gmap_infos = pd.read_json(meta_file_path, compression = 'gzip', lines = True)\n",
    "\n",
    "ca_gmap_infos = ca_gmap_infos.rename(columns={\n",
    "    'name': 'gmap_name'\n",
    "})"
   ]
  },
  {
   "cell_type": "markdown",
   "metadata": {},
   "source": [
    "## Reorder column to make them more readable"
   ]
  },
  {
   "cell_type": "code",
   "execution_count": 4,
   "metadata": {},
   "outputs": [],
   "source": [
    "ca_gmap_infos = ca_gmap_infos[[\n",
    "    'gmap_id',\n",
    "    'gmap_name',\n",
    "    'address',\n",
    "    'latitude',\n",
    "    'longitude',\n",
    "    'description',\n",
    "    'category',\n",
    "    'avg_rating',\n",
    "    'num_of_reviews',\n",
    "    'price',\n",
    "    'hours',\n",
    "    'state',\n",
    "    'MISC',\n",
    "    'relative_results',\n",
    "    'url'\n",
    "]]"
   ]
  },
  {
   "cell_type": "markdown",
   "metadata": {},
   "source": [
    "# clean `ca_gmap_infos`\n",
    "1. remove state col: avoid multicolumnity\n",
    "2. remove url col: inrevelant col"
   ]
  },
  {
   "cell_type": "code",
   "execution_count": 5,
   "metadata": {},
   "outputs": [],
   "source": [
    "ca_gmap_infos = ca_gmap_infos.drop(columns=['state', 'url'])"
   ]
  },
  {
   "cell_type": "markdown",
   "metadata": {},
   "source": [
    "missingness handlation"
   ]
  },
  {
   "cell_type": "code",
   "execution_count": 6,
   "metadata": {},
   "outputs": [],
   "source": [
    "ca_gmap_infos = ca_gmap_infos.dropna(subset=['address', 'category', 'gmap_name', 'relative_results'])\n",
    "ca_gmap_infos = ca_gmap_infos.fillna(np.nan)"
   ]
  },
  {
   "cell_type": "markdown",
   "metadata": {},
   "source": [
    "remove `gmap_id` that has categories that appear less than 20 times"
   ]
  },
  {
   "cell_type": "code",
   "execution_count": 7,
   "metadata": {},
   "outputs": [],
   "source": [
    "categories = ca_gmap_infos['category'].explode().value_counts()\n",
    "spare_categories = categories[categories <= 10].index\n",
    "\n",
    "ca_gmap_infos = ca_gmap_infos[ca_gmap_infos['category'].apply(lambda categories: not any([cate in spare_categories for cate in categories]))]\n",
    "\n",
    "ca_gmap_infos = ca_gmap_infos.dropna(subset=['address', 'category', 'gmap_name', 'relative_results'])\n",
    "ca_gmap_infos = ca_gmap_infos.fillna(np.nan)"
   ]
  },
  {
   "cell_type": "code",
   "execution_count": 8,
   "metadata": {},
   "outputs": [
    {
     "name": "stdout",
     "output_type": "stream",
     "text": [
      "<class 'pandas.core.frame.DataFrame'>\n",
      "Int64Index: 463084 entries, 1 to 515960\n",
      "Data columns (total 13 columns):\n",
      " #   Column            Non-Null Count   Dtype  \n",
      "---  ------            --------------   -----  \n",
      " 0   gmap_id           463084 non-null  object \n",
      " 1   gmap_name         463084 non-null  object \n",
      " 2   address           463084 non-null  object \n",
      " 3   latitude          463084 non-null  float64\n",
      " 4   longitude         463084 non-null  float64\n",
      " 5   description       103690 non-null  object \n",
      " 6   category          463084 non-null  object \n",
      " 7   avg_rating        463084 non-null  float64\n",
      " 8   num_of_reviews    463084 non-null  int64  \n",
      " 9   price             106491 non-null  object \n",
      " 10  hours             383908 non-null  object \n",
      " 11  MISC              404784 non-null  object \n",
      " 12  relative_results  463084 non-null  object \n",
      "dtypes: float64(3), int64(1), object(9)\n",
      "memory usage: 49.5+ MB\n"
     ]
    }
   ],
   "source": [
    "ca_gmap_infos.info()"
   ]
  },
  {
   "cell_type": "markdown",
   "metadata": {},
   "source": [
    "# Chunk transformation of large dataset\n",
    "3min 45sec for kevin to load this process"
   ]
  },
  {
   "cell_type": "code",
   "execution_count": 11,
   "metadata": {},
   "outputs": [],
   "source": [
    "file_path = base_path / \"data\" / \"california_data.json.gz\"\n",
    "results = []\n",
    "\n",
    "# read reviews data by Chunks\n",
    "with pd.read_json(file_path, compression='gzip', lines=True, chunksize=1000000) as reader:\n",
    "    for chunk in reader:\n",
    "        ## rename columns\n",
    "        chunk = chunk.rename(columns={\n",
    "            'user_id': 'reviewer_id',\n",
    "            'name': 'reviewer_name',\n",
    "            'time': 'review_time(unix)',\n",
    "        })\n",
    "\n",
    "        ## remove pics column: since we don't want to deal with image\n",
    "        chunk = chunk.drop(columns=['pics'])\n",
    "\n",
    "        ## adding feature\n",
    "        chunk = chunk.assign(has_rep = chunk['resp'].notna())\n",
    "\n",
    "        # merging\n",
    "        ca_gmap_reviews = chunk.merge(\n",
    "                ca_gmap_infos,\n",
    "                how = 'inner',\n",
    "                right_on = 'gmap_id',\n",
    "                left_on = 'gmap_id'\n",
    "                )\n",
    "        results.append(ca_gmap_reviews)"
   ]
  },
  {
   "cell_type": "markdown",
   "metadata": {},
   "source": [
    "The resulting transformed data"
   ]
  },
  {
   "cell_type": "code",
   "execution_count": 12,
   "metadata": {},
   "outputs": [],
   "source": [
    "x = pd.concat(results)"
   ]
  },
  {
   "cell_type": "code",
   "execution_count": 27,
   "metadata": {},
   "outputs": [
    {
     "name": "stdout",
     "output_type": "stream",
     "text": [
      "<class 'pandas.core.frame.DataFrame'>\n",
      "Int64Index: 44504776 entries, 0 to 476889\n",
      "Data columns (total 22 columns):\n",
      " #   Column             Dtype  \n",
      "---  ------             -----  \n",
      " 0   reviewer_id        float64\n",
      " 1   reviewer_name      object \n",
      " 2   review_time(unix)  int64  \n",
      " 3   rating             int64  \n",
      " 4   text               object \n",
      " 5   resp               object \n",
      " 6   gmap_id            object \n",
      " 7   has_rep            bool   \n",
      " 8   gmap_name          object \n",
      " 9   address            object \n",
      " 10  description        object \n",
      " 11  latitude           float64\n",
      " 12  longitude          float64\n",
      " 13  category           object \n",
      " 14  avg_rating         float64\n",
      " 15  num_of_reviews     int64  \n",
      " 16  price              object \n",
      " 17  hours              object \n",
      " 18  MISC               object \n",
      " 19  state              object \n",
      " 20  relative_results   object \n",
      " 21  url                object \n",
      "dtypes: bool(1), float64(4), int64(3), object(14)\n",
      "memory usage: 7.3+ GB\n"
     ]
    }
   ],
   "source": [
    "x.info()"
   ]
  },
  {
   "cell_type": "markdown",
   "metadata": {},
   "source": [
    "# Export"
   ]
  },
  {
   "cell_type": "code",
   "execution_count": 10,
   "metadata": {},
   "outputs": [],
   "source": [
    "metadata_out_path = base_path / \"data\" / \"california_clean_metadata.json.gz\"\n",
    "ca_gmap_infos.to_json(metadata_out_path, orient='records', lines=True, compression='gzip')"
   ]
  },
  {
   "cell_type": "code",
   "execution_count": 13,
   "metadata": {},
   "outputs": [],
   "source": [
    "data_out_path = base_path / \"data\" / \"california_clean_data.json.gz\"\n",
    "\n",
    "x.to_json(data_out_path, orient='records', lines=True, compression='gzip')\n",
    "\n",
    "print(f\"DataFrame exported to {data_out_path} and {metadata_out_path}\")"
   ]
  },
  {
   "cell_type": "code",
   "execution_count": null,
   "metadata": {},
   "outputs": [],
   "source": []
  }
 ],
 "metadata": {
  "kernelspec": {
   "display_name": "cse158",
   "language": "python",
   "name": "python3"
  },
  "language_info": {
   "codemirror_mode": {
    "name": "ipython",
    "version": 3
   },
   "file_extension": ".py",
   "mimetype": "text/x-python",
   "name": "python",
   "nbconvert_exporter": "python",
   "pygments_lexer": "ipython3",
   "version": "3.8.18"
  }
 },
 "nbformat": 4,
 "nbformat_minor": 2
}
