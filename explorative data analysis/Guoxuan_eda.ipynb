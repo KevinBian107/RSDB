{
 "cells": [
  {
   "cell_type": "code",
   "execution_count": 5,
   "metadata": {},
   "outputs": [],
   "source": [
    "import gzip\n",
    "from pathlib import Path\n",
    "import pandas as pd\n",
    "import json\n",
    "import matplotlib.pyplot as plt\n",
    "import seaborn as sns\n",
    "import numpy as np\n",
    "\n",
    "import warnings\n",
    "warnings.filterwarnings(\"ignore\")"
   ]
  },
  {
   "cell_type": "code",
   "execution_count": null,
   "metadata": {},
   "outputs": [],
   "source": [
    "## handling ca_gmap_infos\n",
    "\n",
    "\n",
    "ca_gmap_infos = pd.read_json('data/meta-California.json.gz', compression = 'gzip', lines = True)\n",
    "\n",
    "ca_gmap_infos = ca_gmap_infos.rename(columns={\n",
    "    'name': 'gmap_name'\n",
    "})\n",
    "\n",
    "## reorder column to make them more readable\n",
    "ca_gmap_infos = ca_gmap_infos[[\n",
    "    'gmap_id',\n",
    "    'gmap_name',\n",
    "    'address',\n",
    "    'latitude',\n",
    "    'longitude',\n",
    "    'description',\n",
    "    'category',\n",
    "    'avg_rating',\n",
    "    'num_of_reviews',\n",
    "    'price',\n",
    "    'hours',\n",
    "    'state',\n",
    "    'MISC',\n",
    "    'relative_results',\n",
    "    'url'\n",
    "]]\n",
    "\n",
    "# clean ca_gmap_infos\n",
    "\n",
    "## remove state col: avoid multicolumnity\n",
    "## remove url col: inrevelant col\n",
    "ca_gmap_infos = ca_gmap_infos.drop(columns=['state', 'url'])\n",
    "\n",
    "## missingness handlation\n",
    "ca_gmap_infos = ca_gmap_infos.dropna(subset=['address', 'category', 'gmap_name', 'relative_results'])\n",
    "ca_gmap_infos = ca_gmap_infos.fillna(np.nan)\n",
    "\n",
    "\n",
    "## remove gmap_id that has categories that appear less than 20 times\n",
    "categories = ca_gmap_infos['category'].explode().value_counts()\n",
    "spare_categories = categories[categories <= 10].index\n",
    "\n",
    "ca_gmap_infos = ca_gmap_infos[ca_gmap_infos['category'].apply(lambda categories: not any([cate in spare_categories for cate in categories]))]"
   ]
  },
  {
   "cell_type": "code",
   "execution_count": null,
   "metadata": {},
   "outputs": [],
   "source": [
    "results = []\n",
    "\n",
    "# read reviews data by Chunks\n",
    "with pd.read_json('data/review-California_10.json.gz', compression='gzip', lines=True, chunksize=1000000) as reader:\n",
    "    for chunk in reader:\n",
    "        ## rename columns\n",
    "        chunk = chunk.rename(columns={\n",
    "            'user_id': 'reviewer_id',\n",
    "            'name': 'reviewer_name',\n",
    "            'time': 'review_time(unix)',\n",
    "        })\n",
    "\n",
    "        # clean ca_reviews\n",
    "\n",
    "        ## remove pics column: since we don't want to deal with image\n",
    "        chunk = chunk.drop(columns=['pics'])\n",
    "\n",
    "        ## adding feature\n",
    "        chunk = chunk.assign(has_rep = chunk['resp'].notna())\n",
    "\n",
    "        # merging\n",
    "        ca_gmap_reviews = chunk.merge(\n",
    "                ca_gmap_infos,\n",
    "                how = 'inner',\n",
    "                right_on = 'gmap_id',\n",
    "                left_on = 'gmap_id'\n",
    "                )\n",
    "        \n",
    "        results.append(ca_gmap_reviews)"
   ]
  },
  {
   "cell_type": "code",
   "execution_count": null,
   "metadata": {},
   "outputs": [],
   "source": [
    "# the resulting transformed data\n",
    "\n",
    "x = pd.concat(results)"
   ]
  }
 ],
 "metadata": {
  "kernelspec": {
   "display_name": "cse158",
   "language": "python",
   "name": "python3"
  },
  "language_info": {
   "codemirror_mode": {
    "name": "ipython",
    "version": 3
   },
   "file_extension": ".py",
   "mimetype": "text/x-python",
   "name": "python",
   "nbconvert_exporter": "python",
   "pygments_lexer": "ipython3",
   "version": "3.11.10"
  }
 },
 "nbformat": 4,
 "nbformat_minor": 2
}
